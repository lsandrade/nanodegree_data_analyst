{
 "cells": [
  {
   "cell_type": "markdown",
   "metadata": {},
   "source": [
    "# Investigating Titanic Database\n",
    "\n",
    "* Dataset [https://www.udacity.com/api/nodes/5420148578/supplemental_media/titanic-datacsv/download]\n",
    "* Data description [https://www.kaggle.com/c/titanic/data]\n",
    "\n",
    "## 1) Introdution\n",
    "<p>As we saw in the film directed by James Cameron that chronicles the Titanic's crash, women and children are a priority for a rescue. In this context, this study aims to analyze the database of ship's passengers and verify that the correlation between gender, age and survival. As an additional study, the correlation between income and passenger survival will be analyzed. It will be done from the information if the tickets bought were first, second or third class.</p>\n",
    "The questions that will be answered:\n",
    "* Did age and gender influence the passenger's survival?\n",
    "* Did passenger's class influence survival?\n",
    "\n",
    "## 2) Variables\n",
    "* <b>Dependent: </b> Passenger's survival\n",
    "* <b>Independent: </b> Passenger's gender, age and class"
   ]
  },
  {
   "cell_type": "markdown",
   "metadata": {},
   "source": [
    "## 3) Analysis\n",
    "\n",
    "### 3.1) Meeting the data"
   ]
  },
  {
   "cell_type": "code",
   "execution_count": 1,
   "metadata": {
    "collapsed": false
   },
   "outputs": [
    {
     "data": {
      "text/html": [
       "<div>\n",
       "<table border=\"1\" class=\"dataframe\">\n",
       "  <thead>\n",
       "    <tr style=\"text-align: right;\">\n",
       "      <th></th>\n",
       "      <th>PassengerId</th>\n",
       "      <th>Survived</th>\n",
       "      <th>Pclass</th>\n",
       "      <th>Name</th>\n",
       "      <th>Sex</th>\n",
       "      <th>Age</th>\n",
       "      <th>SibSp</th>\n",
       "      <th>Parch</th>\n",
       "      <th>Ticket</th>\n",
       "      <th>Fare</th>\n",
       "      <th>Cabin</th>\n",
       "      <th>Embarked</th>\n",
       "    </tr>\n",
       "  </thead>\n",
       "  <tbody>\n",
       "    <tr>\n",
       "      <th>0</th>\n",
       "      <td>1</td>\n",
       "      <td>0</td>\n",
       "      <td>3</td>\n",
       "      <td>Braund, Mr. Owen Harris</td>\n",
       "      <td>male</td>\n",
       "      <td>22.0</td>\n",
       "      <td>1</td>\n",
       "      <td>0</td>\n",
       "      <td>A/5 21171</td>\n",
       "      <td>7.2500</td>\n",
       "      <td>NaN</td>\n",
       "      <td>S</td>\n",
       "    </tr>\n",
       "    <tr>\n",
       "      <th>1</th>\n",
       "      <td>2</td>\n",
       "      <td>1</td>\n",
       "      <td>1</td>\n",
       "      <td>Cumings, Mrs. John Bradley (Florence Briggs Th...</td>\n",
       "      <td>female</td>\n",
       "      <td>38.0</td>\n",
       "      <td>1</td>\n",
       "      <td>0</td>\n",
       "      <td>PC 17599</td>\n",
       "      <td>71.2833</td>\n",
       "      <td>C85</td>\n",
       "      <td>C</td>\n",
       "    </tr>\n",
       "    <tr>\n",
       "      <th>2</th>\n",
       "      <td>3</td>\n",
       "      <td>1</td>\n",
       "      <td>3</td>\n",
       "      <td>Heikkinen, Miss. Laina</td>\n",
       "      <td>female</td>\n",
       "      <td>26.0</td>\n",
       "      <td>0</td>\n",
       "      <td>0</td>\n",
       "      <td>STON/O2. 3101282</td>\n",
       "      <td>7.9250</td>\n",
       "      <td>NaN</td>\n",
       "      <td>S</td>\n",
       "    </tr>\n",
       "    <tr>\n",
       "      <th>3</th>\n",
       "      <td>4</td>\n",
       "      <td>1</td>\n",
       "      <td>1</td>\n",
       "      <td>Futrelle, Mrs. Jacques Heath (Lily May Peel)</td>\n",
       "      <td>female</td>\n",
       "      <td>35.0</td>\n",
       "      <td>1</td>\n",
       "      <td>0</td>\n",
       "      <td>113803</td>\n",
       "      <td>53.1000</td>\n",
       "      <td>C123</td>\n",
       "      <td>S</td>\n",
       "    </tr>\n",
       "    <tr>\n",
       "      <th>4</th>\n",
       "      <td>5</td>\n",
       "      <td>0</td>\n",
       "      <td>3</td>\n",
       "      <td>Allen, Mr. William Henry</td>\n",
       "      <td>male</td>\n",
       "      <td>35.0</td>\n",
       "      <td>0</td>\n",
       "      <td>0</td>\n",
       "      <td>373450</td>\n",
       "      <td>8.0500</td>\n",
       "      <td>NaN</td>\n",
       "      <td>S</td>\n",
       "    </tr>\n",
       "  </tbody>\n",
       "</table>\n",
       "</div>"
      ],
      "text/plain": [
       "   PassengerId  Survived  Pclass  \\\n",
       "0            1         0       3   \n",
       "1            2         1       1   \n",
       "2            3         1       3   \n",
       "3            4         1       1   \n",
       "4            5         0       3   \n",
       "\n",
       "                                                Name     Sex   Age  SibSp  \\\n",
       "0                            Braund, Mr. Owen Harris    male  22.0      1   \n",
       "1  Cumings, Mrs. John Bradley (Florence Briggs Th...  female  38.0      1   \n",
       "2                             Heikkinen, Miss. Laina  female  26.0      0   \n",
       "3       Futrelle, Mrs. Jacques Heath (Lily May Peel)  female  35.0      1   \n",
       "4                           Allen, Mr. William Henry    male  35.0      0   \n",
       "\n",
       "   Parch            Ticket     Fare Cabin Embarked  \n",
       "0      0         A/5 21171   7.2500   NaN        S  \n",
       "1      0          PC 17599  71.2833   C85        C  \n",
       "2      0  STON/O2. 3101282   7.9250   NaN        S  \n",
       "3      0            113803  53.1000  C123        S  \n",
       "4      0            373450   8.0500   NaN        S  "
      ]
     },
     "execution_count": 1,
     "metadata": {},
     "output_type": "execute_result"
    }
   ],
   "source": [
    "import numpy as np\n",
    "import pandas as pd\n",
    "import matplotlib.pyplot as plt\n",
    "import seaborn as sns\n",
    "import math\n",
    "\n",
    "\n",
    "%matplotlib inline\n",
    "\n",
    "titanic_file = 'titanic_data.csv'\n",
    "titanic_data = pd.read_csv(titanic_file)\n",
    "\n",
    "titanic_data.head()"
   ]
  },
  {
   "cell_type": "markdown",
   "metadata": {},
   "source": [
    "#### 3.1.1) Passengers by gender"
   ]
  },
  {
   "cell_type": "code",
   "execution_count": 2,
   "metadata": {
    "collapsed": false
   },
   "outputs": [
    {
     "name": "stdout",
     "output_type": "stream",
     "text": [
      "Total passengers: 891\n",
      "Genders:\n",
      "Sex\n",
      "female    314\n",
      "male      577\n",
      "dtype: int64\n"
     ]
    }
   ],
   "source": [
    "print \"Total passengers:\", titanic_data['PassengerId'].count()\n",
    "print \"Genders:\\n\",titanic_data.groupby(\"Sex\").size()\n"
   ]
  },
  {
   "cell_type": "markdown",
   "metadata": {},
   "source": [
    "#### 3.1.2) Age's Histogram"
   ]
  },
  {
   "cell_type": "code",
   "execution_count": 42,
   "metadata": {
    "collapsed": false
   },
   "outputs": [
    {
     "name": "stdout",
     "output_type": "stream",
     "text": [
      "Mean age:  29.6991176471\n",
      "Standard deviation:  14.5264973323\n"
     ]
    },
    {
     "data": {
      "text/plain": [
       "<seaborn.axisgrid.FacetGrid at 0x2a5d9710>"
      ]
     },
     "execution_count": 42,
     "metadata": {},
     "output_type": "execute_result"
    },
    {
     "data": {
      "image/png": "[encoded data removed]",
      "text/plain": [
       "<matplotlib.figure.Figure at 0x2a5d9438>"
      ]
     },
     "metadata": {},
     "output_type": "display_data"
    }
   ],
   "source": [
    "print \"Mean age: \", titanic_data['Age'].mean()\n",
    "print \"Standard deviation: \", titanic_data['Age'].std()\n",
    "\n",
    "h = sns.FacetGrid(titanic_data, margin_titles=True)\n",
    "h.fig.suptitle(\"Passengers Age Distribution\")\n",
    "h.map(plt.hist, \"Age\", bins=10)\n"
   ]
  },
  {
   "cell_type": "markdown",
   "metadata": {},
   "source": [
    "#### 3.1.3) Passengers by class"
   ]
  },
  {
   "cell_type": "code",
   "execution_count": 43,
   "metadata": {
    "collapsed": false
   },
   "outputs": [
    {
     "data": {
      "text/plain": [
       "<seaborn.axisgrid.FacetGrid at 0x29ffc940>"
      ]
     },
     "execution_count": 43,
     "metadata": {},
     "output_type": "execute_result"
    },
    {
     "data": {
      "image/png": "[encoded data removed]",
      "text/plain": [
       "<matplotlib.figure.Figure at 0x29ffc400>"
      ]
     },
     "metadata": {},
     "output_type": "display_data"
    }
   ],
   "source": [
    "b = sns.factorplot(x=\"Pclass\", data=titanic_data, kind=\"count\")\n",
    "b.fig.suptitle(\"Passengers quantity by Pclass\")\n",
    "b.set_xticklabels(step=2)\n"
   ]
  },
  {
   "cell_type": "markdown",
   "metadata": {},
   "source": [
    "### 3.2) Data Wrangling"
   ]
  },
  {
   "cell_type": "markdown",
   "metadata": {},
   "source": [
    "#### 3.2.1) Checking Data"
   ]
  },
  {
   "cell_type": "code",
   "execution_count": 44,
   "metadata": {
    "collapsed": false
   },
   "outputs": [],
   "source": [
    "def is_data_ok(data):\n",
    "    \"\"\"\n",
    "    From Titanic's test data, verify if chosen variables (Age, Pclass, Sex) show any problem like missing or suspicious data.\n",
    "    Return: True if everything is OK, False if found any problem and the respective value\n",
    "    \"\"\"\n",
    "    if data['Pclass'] not in (1,2,3):\n",
    "        print \"Invalid Pclass \",data['Pclass']\n",
    "        return False\n",
    "    if data['Sex'] not in ['male','female']:\n",
    "        print \"Invalid Sex \",data['Sex']\n",
    "        return False\n",
    "    if math.isnan(data['Age']) or data['Age'] < 0 or data['Age'] > 120:\n",
    "        print \"Invalid Age \",data['Age']\n",
    "        return False\n",
    "    return True\n"
   ]
  },
  {
   "cell_type": "code",
   "execution_count": 45,
   "metadata": {
    "collapsed": false
   },
   "outputs": [
    {
     "name": "stdout",
     "output_type": "stream",
     "text": [
      "Invalid Age  nan\n",
      "Invalid Age  nan\n",
      "Invalid Age  nan\n",
      "Invalid Age  nan\n",
      "Invalid Age  nan\n",
      "Invalid Age  nan\n",
      "Invalid Age  nan\n",
      "Invalid Age  nan\n",
      "Invalid Age  nan\n",
      "Invalid Age  nan\n",
      "Invalid Age  nan\n",
      "Invalid Age  nan\n",
      "Invalid Age  nan\n",
      "Invalid Age  nan\n",
      "Invalid Age  nan\n",
      "Invalid Age  nan\n",
      "Invalid Age  nan\n",
      "Invalid Age  nan\n",
      "Invalid Age  nan\n",
      "Invalid Age  nan\n",
      "Invalid Age  nan\n",
      "Invalid Age  nan\n",
      "Invalid Age  nan\n",
      "Invalid Age  nan\n",
      "Invalid Age  nan\n",
      "Invalid Age  nan\n",
      "Invalid Age  nan\n",
      "Invalid Age  nan\n",
      "Invalid Age  nan\n",
      "Invalid Age  nan\n",
      "Invalid Age  nan\n",
      "Invalid Age  nan\n",
      "Invalid Age  nan\n",
      "Invalid Age  nan\n",
      "Invalid Age  nan\n",
      "Invalid Age  nan\n",
      "Invalid Age  nan\n",
      "Invalid Age  nan\n",
      "Invalid Age  nan\n",
      "Invalid Age  nan\n",
      "Invalid Age  nan\n",
      "Invalid Age  nan\n",
      "Invalid Age  nan\n",
      "Invalid Age  nan\n",
      "Invalid Age  nan\n",
      "Invalid Age  nan\n",
      "Invalid Age  nan\n",
      "Invalid Age  nan\n",
      "Invalid Age  nan\n",
      "Invalid Age  nan\n",
      "Invalid Age  nan\n",
      "Invalid Age  nan\n",
      "Invalid Age  nan\n",
      "Invalid Age  nan\n",
      "Invalid Age  nan\n",
      "Invalid Age  nan\n",
      "Invalid Age  nan\n",
      "Invalid Age  nan\n",
      "Invalid Age  nan\n",
      "Invalid Age  nan\n",
      "Invalid Age  nan\n",
      "Invalid Age  nan\n",
      "Invalid Age  nan\n",
      "Invalid Age  nan\n",
      "Invalid Age  nan\n",
      "Invalid Age  nan\n",
      "Invalid Age  nan\n",
      "Invalid Age  nan\n",
      "Invalid Age  nan\n",
      "Invalid Age  nan\n",
      "Invalid Age  nan\n",
      "Invalid Age  nan\n",
      "Invalid Age  nan\n",
      "Invalid Age  nan\n",
      "Invalid Age  nan\n",
      "Invalid Age  nan\n",
      "Invalid Age  nan\n",
      "Invalid Age  nan\n",
      "Invalid Age  nan\n",
      "Invalid Age  nan\n",
      "Invalid Age  nan\n",
      "Invalid Age  nan\n",
      "Invalid Age  nan\n",
      "Invalid Age  nan\n",
      "Invalid Age  nan\n",
      "Invalid Age  nan\n",
      "Invalid Age  nan\n",
      "Invalid Age  nan\n",
      "Invalid Age  nan\n",
      "Invalid Age  nan\n",
      "Invalid Age  nan\n",
      "Invalid Age  nan\n",
      "Invalid Age  nan\n",
      "Invalid Age  nan\n",
      "Invalid Age  nan\n",
      "Invalid Age  nan\n",
      "Invalid Age  nan\n",
      "Invalid Age  nan\n",
      "Invalid Age  nan\n",
      "Invalid Age  nan\n",
      "Invalid Age  nan\n",
      "Invalid Age  nan\n",
      "Invalid Age  nan\n",
      "Invalid Age  nan\n",
      "Invalid Age  nan\n",
      "Invalid Age  nan\n",
      "Invalid Age  nan\n",
      "Invalid Age  nan\n",
      "Invalid Age  nan\n",
      "Invalid Age  nan\n",
      "Invalid Age  nan\n",
      "Invalid Age  nan\n",
      "Invalid Age  nan\n",
      "Invalid Age  nan\n",
      "Invalid Age  nan\n",
      "Invalid Age  nan\n",
      "Invalid Age  nan\n",
      "Invalid Age  nan\n",
      "Invalid Age  nan\n",
      "Invalid Age  nan\n",
      "Invalid Age  nan\n",
      "Invalid Age  nan\n",
      "Invalid Age  nan\n",
      "Invalid Age  nan\n",
      "Invalid Age  nan\n",
      "Invalid Age  nan\n",
      "Invalid Age  nan\n",
      "Invalid Age  nan\n",
      "Invalid Age  nan\n",
      "Invalid Age  nan\n",
      "Invalid Age  nan\n",
      "Invalid Age  nan\n",
      "Invalid Age  nan\n",
      "Invalid Age  nan\n",
      "Invalid Age  nan\n",
      "Invalid Age  nan\n",
      "Invalid Age  nan\n",
      "Invalid Age  nan\n",
      "Invalid Age  nan\n",
      "Invalid Age  nan\n",
      "Invalid Age  nan\n",
      "Invalid Age  nan\n",
      "Invalid Age  nan\n",
      "Invalid Age  nan\n",
      "Invalid Age  nan\n",
      "Invalid Age  nan\n",
      "Invalid Age  nan\n",
      "Invalid Age  nan\n",
      "Invalid Age  nan\n",
      "Invalid Age  nan\n",
      "Invalid Age  nan\n",
      "Invalid Age  nan\n",
      "Invalid Age  nan\n",
      "Invalid Age  nan\n",
      "Invalid Age  nan\n",
      "Invalid Age  nan\n",
      "Invalid Age  nan\n",
      "Invalid Age  nan\n",
      "Invalid Age  nan\n",
      "Invalid Age  nan\n",
      "Invalid Age  nan\n",
      "Invalid Age  nan\n",
      "Invalid Age  nan\n",
      "Invalid Age  nan\n",
      "Invalid Age  nan\n",
      "Invalid Age  nan\n",
      "Invalid Age  nan\n",
      "Invalid Age  nan\n",
      "Invalid Age  nan\n",
      "Invalid Age  nan\n",
      "Invalid Age  nan\n",
      "Invalid Age  nan\n",
      "Invalid Age  nan\n",
      "Invalid Age  nan\n",
      "Invalid Age  nan\n",
      "Invalid Age  nan\n",
      "Invalid Age  nan\n",
      "False\n"
     ]
    }
   ],
   "source": [
    "# Testing if everything looks fine\n",
    "\n",
    "result = titanic_data.apply(is_data_ok,axis=1)\n",
    "\n",
    "print result.all() # Prints True if everything is OK\n"
   ]
  },
  {
   "cell_type": "markdown",
   "metadata": {},
   "source": [
    "#### 3.2.2) Filling missing ages\n",
    "<p>Since we are using Age, Sex and Pclass data in our analysis and we want to fill failures in Ages, let's group ages by Sex and Pclass to fill with their mean.\n",
    "Ex: When found a missing age, fill it with the group's mean it belongs according to his/her gender and Pclass.</p>"
   ]
  },
  {
   "cell_type": "code",
   "execution_count": 46,
   "metadata": {
    "collapsed": false
   },
   "outputs": [
    {
     "name": "stdout",
     "output_type": "stream",
     "text": [
      "Sex     Pclass\n",
      "female  1         34.611765\n",
      "        2         28.722973\n",
      "        3         21.750000\n",
      "male    1         41.281386\n",
      "        2         30.740707\n",
      "        3         26.507589\n",
      "Name: Age, dtype: float64\n"
     ]
    }
   ],
   "source": [
    "# Grouping missing ages by Pclass and sex\n",
    "mean_ages =  titanic_data.groupby(['Sex','Pclass'])['Age'].mean()\n",
    "\n",
    "print mean_ages\n"
   ]
  },
  {
   "cell_type": "code",
   "execution_count": 47,
   "metadata": {
    "collapsed": true
   },
   "outputs": [],
   "source": [
    "def fill_missing_ages(register):\n",
    "    \"\"\"\n",
    "    When it found a missing age, use his Pclass and Sex to fill this age with the mean of the group.\n",
    "    Return: mean of the group if age is missing; or the age found.\n",
    "    \"\"\"\n",
    "    global mean_ages\n",
    "    if math.isnan(register['Age']):\n",
    "        return mean_ages[register['Sex']][register['Pclass']]\n",
    "    return register['Age']\n",
    "\n",
    "titanic_data['Age'] = titanic_data.apply(fill_missing_ages, axis=1)"
   ]
  },
  {
   "cell_type": "code",
   "execution_count": 48,
   "metadata": {
    "collapsed": false
   },
   "outputs": [
    {
     "name": "stdout",
     "output_type": "stream",
     "text": [
      "True\n"
     ]
    }
   ],
   "source": [
    "# Exec the same test as before - should return True if everything is OK\n",
    "result = titanic_data.apply(is_data_ok,axis=1)\n",
    "print (result.all())\n"
   ]
  },
  {
   "cell_type": "markdown",
   "metadata": {},
   "source": [
    "### 3.3) Classifying data\n"
   ]
  },
  {
   "cell_type": "code",
   "execution_count": 49,
   "metadata": {
    "collapsed": false
   },
   "outputs": [
    {
     "data": {
      "text/html": [
       "<div>\n",
       "<table border=\"1\" class=\"dataframe\">\n",
       "  <thead>\n",
       "    <tr style=\"text-align: right;\">\n",
       "      <th></th>\n",
       "      <th>PassengerId</th>\n",
       "      <th>Survived</th>\n",
       "      <th>Pclass</th>\n",
       "      <th>Name</th>\n",
       "      <th>Sex</th>\n",
       "      <th>Age</th>\n",
       "      <th>SibSp</th>\n",
       "      <th>Parch</th>\n",
       "      <th>Ticket</th>\n",
       "      <th>Fare</th>\n",
       "      <th>Cabin</th>\n",
       "      <th>Embarked</th>\n",
       "      <th>GAclass</th>\n",
       "    </tr>\n",
       "  </thead>\n",
       "  <tbody>\n",
       "    <tr>\n",
       "      <th>0</th>\n",
       "      <td>1</td>\n",
       "      <td>0</td>\n",
       "      <td>3</td>\n",
       "      <td>Braund, Mr. Owen Harris</td>\n",
       "      <td>male</td>\n",
       "      <td>22.0</td>\n",
       "      <td>1</td>\n",
       "      <td>0</td>\n",
       "      <td>A/5 21171</td>\n",
       "      <td>7.2500</td>\n",
       "      <td>NaN</td>\n",
       "      <td>S</td>\n",
       "      <td>1</td>\n",
       "    </tr>\n",
       "    <tr>\n",
       "      <th>1</th>\n",
       "      <td>2</td>\n",
       "      <td>1</td>\n",
       "      <td>1</td>\n",
       "      <td>Cumings, Mrs. John Bradley (Florence Briggs Th...</td>\n",
       "      <td>female</td>\n",
       "      <td>38.0</td>\n",
       "      <td>1</td>\n",
       "      <td>0</td>\n",
       "      <td>PC 17599</td>\n",
       "      <td>71.2833</td>\n",
       "      <td>C85</td>\n",
       "      <td>C</td>\n",
       "      <td>2</td>\n",
       "    </tr>\n",
       "    <tr>\n",
       "      <th>2</th>\n",
       "      <td>3</td>\n",
       "      <td>1</td>\n",
       "      <td>3</td>\n",
       "      <td>Heikkinen, Miss. Laina</td>\n",
       "      <td>female</td>\n",
       "      <td>26.0</td>\n",
       "      <td>0</td>\n",
       "      <td>0</td>\n",
       "      <td>STON/O2. 3101282</td>\n",
       "      <td>7.9250</td>\n",
       "      <td>NaN</td>\n",
       "      <td>S</td>\n",
       "      <td>2</td>\n",
       "    </tr>\n",
       "    <tr>\n",
       "      <th>3</th>\n",
       "      <td>4</td>\n",
       "      <td>1</td>\n",
       "      <td>1</td>\n",
       "      <td>Futrelle, Mrs. Jacques Heath (Lily May Peel)</td>\n",
       "      <td>female</td>\n",
       "      <td>35.0</td>\n",
       "      <td>1</td>\n",
       "      <td>0</td>\n",
       "      <td>113803</td>\n",
       "      <td>53.1000</td>\n",
       "      <td>C123</td>\n",
       "      <td>S</td>\n",
       "      <td>2</td>\n",
       "    </tr>\n",
       "    <tr>\n",
       "      <th>4</th>\n",
       "      <td>5</td>\n",
       "      <td>0</td>\n",
       "      <td>3</td>\n",
       "      <td>Allen, Mr. William Henry</td>\n",
       "      <td>male</td>\n",
       "      <td>35.0</td>\n",
       "      <td>0</td>\n",
       "      <td>0</td>\n",
       "      <td>373450</td>\n",
       "      <td>8.0500</td>\n",
       "      <td>NaN</td>\n",
       "      <td>S</td>\n",
       "      <td>1</td>\n",
       "    </tr>\n",
       "  </tbody>\n",
       "</table>\n",
       "</div>"
      ],
      "text/plain": [
       "   PassengerId  Survived  Pclass  \\\n",
       "0            1         0       3   \n",
       "1            2         1       1   \n",
       "2            3         1       3   \n",
       "3            4         1       1   \n",
       "4            5         0       3   \n",
       "\n",
       "                                                Name     Sex   Age  SibSp  \\\n",
       "0                            Braund, Mr. Owen Harris    male  22.0      1   \n",
       "1  Cumings, Mrs. John Bradley (Florence Briggs Th...  female  38.0      1   \n",
       "2                             Heikkinen, Miss. Laina  female  26.0      0   \n",
       "3       Futrelle, Mrs. Jacques Heath (Lily May Peel)  female  35.0      1   \n",
       "4                           Allen, Mr. William Henry    male  35.0      0   \n",
       "\n",
       "   Parch            Ticket     Fare Cabin Embarked  GAclass  \n",
       "0      0         A/5 21171   7.2500   NaN        S        1  \n",
       "1      0          PC 17599  71.2833   C85        C        2  \n",
       "2      0  STON/O2. 3101282   7.9250   NaN        S        2  \n",
       "3      0            113803  53.1000  C123        S        2  \n",
       "4      0            373450   8.0500   NaN        S        1  "
      ]
     },
     "execution_count": 49,
     "metadata": {},
     "output_type": "execute_result"
    }
   ],
   "source": [
    "def classify(register):\n",
    "    \"\"\"\n",
    "    Passengers were classified according their age/gender as: woman, man or children.\n",
    "        man: sex = \"male\" and age > 15\n",
    "        woman: sex = \"female\" and age > 15\n",
    "        children: age <=15\n",
    "        \n",
    "    Parameter: a register with at less Age and Sex\n",
    "    Return 1 if man, 2 if woman, 3 if children\n",
    "    \"\"\"\n",
    "    \n",
    "    if register['Sex'] == 'male' and register['Age'] > 15:\n",
    "        return 1\n",
    "    if register['Sex'] == 'female' and register['Age'] > 15:\n",
    "        return 2\n",
    "    return 3\n",
    "    \n",
    "titanic_data['GAclass'] = titanic_data.apply(classify, axis=1)\n",
    "\n",
    "titanic_data.head()"
   ]
  },
  {
   "cell_type": "markdown",
   "metadata": {},
   "source": [
    "### 3.4) Calculating Correlations\n",
    "\n",
    "Using Panda's correlation method, we can verify the correlation between two variables."
   ]
  },
  {
   "cell_type": "code",
   "execution_count": 50,
   "metadata": {
    "collapsed": false
   },
   "outputs": [
    {
     "name": "stdout",
     "output_type": "stream",
     "text": [
      "Correlation between age/gender and survival:  0.472636807651\n",
      "Correlation between cabin class and survival:  -0.338481035961\n"
     ]
    }
   ],
   "source": [
    "correlation = titanic_data.corr()\n",
    "\n",
    "print \"Correlation between age/gender and survival: \",correlation['Survived']['GAclass']\n",
    "print \"Correlation between cabin class and survival: \",correlation['Survived']['Pclass']"
   ]
  },
  {
   "cell_type": "code",
   "execution_count": 106,
   "metadata": {
    "collapsed": false
   },
   "outputs": [
    {
     "data": {
      "text/plain": [
       "<seaborn.axisgrid.FacetGrid at 0x14227438>"
      ]
     },
     "execution_count": 106,
     "metadata": {},
     "output_type": "execute_result"
    },
    {
     "data": {
      "image/png": "[encoded data removed]",
      "text/plain": [
       "<matplotlib.figure.Figure at 0x14227860>"
      ]
     },
     "metadata": {},
     "output_type": "display_data"
    },
    {
     "data": {
      "image/png": "[encoded data removed]",
      "text/plain": [
       "<matplotlib.figure.Figure at 0x15719ef0>"
      ]
     },
     "metadata": {},
     "output_type": "display_data"
    },
    {
     "data": {
      "image/png": "[encoded data removed]",
      "text/plain": [
       "<matplotlib.figure.Figure at 0x160e3cc0>"
      ]
     },
     "metadata": {},
     "output_type": "display_data"
    }
   ],
   "source": [
    "\n",
    "g = sns.FacetGrid(titanic_data, col=\"Pclass\")  \n",
    "g.map(sns.regplot, \"Survived\", \"GAclass\")  \n",
    "\n",
    "h = sns.FacetGrid(titanic_data, col=\"Sex\")  \n",
    "h.map(sns.regplot, \"Age\", \"Survived\")  \n",
    "\n",
    "i = sns.FacetGrid(titanic_data, col=\"Sex\")  \n",
    "i.map(sns.regplot, \"Pclass\", \"Survived\")  \n",
    "\n"
   ]
  },
  {
   "cell_type": "markdown",
   "metadata": {},
   "source": [
    "### 4) Conclusion\n",
    "\n",
    "<p>Through this deep analysis of the data, we can conclude that there is a correlation between Survival and Class (gender/age). Pearson R 0.237636784427 value shows that women and children have a higher chance than men of surviving. The correlation between the economic situation of passengers and survival, the value -0.338481035961 shows that the poorer less chance of survival.\n",
    "<p>Analyzing the resulting graphs the correlation between age/gender and survival is strongly confirmed, especially for passengers in the second and third classes.</p>\n",
    "<p>Analyzing survival only by gender and age we see that: 1) males have a lower chance of survival on average, and smaller the older; 2) females have a very high chance of survival and the higher the age, higher the chance.</p>\n",
    "<p>Finally, analyzing gender/class graphs we confirm that for both sexes isn't good to be poor in a naval accident.</p>"
   ]
  },
  {
   "cell_type": "markdown",
   "metadata": {},
   "source": [
    "### 5) Lectures\n",
    "* MatplotLib [http://matplotlib.org/users/pyplot_tutorial.html]\n",
    "* Data Visualization in Python: Advanced Functionality in Seaborn [http://blog.insightdatalabs.com/advanced-functionality-in-seaborn/]\n",
    "* Pandas.Dataframe.corr [http://pandas.pydata.org/pandas-docs/stable/generated/pandas.DataFrame.corr.html]"
   ]
  },
  {
   "cell_type": "code",
   "execution_count": null,
   "metadata": {
    "collapsed": true
   },
   "outputs": [],
   "source": []
  }
 ],
 "metadata": {
  "anaconda-cloud": {},
  "kernelspec": {
   "display_name": "Python [conda root]",
   "language": "python",
   "name": "conda-root-py"
  },
  "language_info": {
   "codemirror_mode": {
    "name": "ipython",
    "version": 2
   },
   "file_extension": ".py",
   "mimetype": "text/x-python",
   "name": "python",
   "nbconvert_exporter": "python",
   "pygments_lexer": "ipython2",
   "version": "2.7.12"
  }
 },
 "nbformat": 4,
 "nbformat_minor": 1
}
