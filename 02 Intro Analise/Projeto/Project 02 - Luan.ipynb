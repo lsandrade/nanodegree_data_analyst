{
 "cells": [
  {
   "cell_type": "markdown",
   "metadata": {},
   "source": [
    "# Investigando dados do Titanic\n",
    "\n",
    "* Dataset [https://www.udacity.com/api/nodes/5420148578/supplemental_media/titanic-datacsv/download]\n",
    "* Data description [https://www.kaggle.com/c/titanic/data]\n",
    "\n",
    "## 1) Introdução\n",
    "<p>Como vimos no filme dirigido por James Cameron que narra o acidente do navio Titanic, mulheres e crianças são prioridade em um resgate. Nesse contexto, esse estudo tem como objetivo analisar os dados dos passageiros e verificar a correlação entre gênero, idade e sobrevivência. Adicionalmente, a correlação entre poder aquisitivo do passageiro e sua sobrevivência também será analisada. Essa informação será inferida a partir do dado se o bilhete comprado foi para uma cabine de primeira, segunda ou terceira classe.</p>\n",
    "As questões que serão respondidas:\n",
    "* Idade e gênero influenciaram a sobrevivência dos passageiros?\n",
    "* A classe a qual eles pertenciam teve alguma influência?\n",
    "\n",
    "## 2) Variáveis\n",
    "* <b>Dependente: </b> Sobrevivência do Passageiro\n",
    "* <b>Independente: </b> Gênero, idade e classe da cabine"
   ]
  },
  {
   "cell_type": "markdown",
   "metadata": {},
   "source": [
    "## 3) Análise\n",
    "\n",
    "### 3.1) Conhecendo os dados"
   ]
  },
  {
   "cell_type": "code",
   "execution_count": 135,
   "metadata": {
    "collapsed": false
   },
   "outputs": [
    {
     "data": {
      "text/html": [
       "<div>\n",
       "<table border=\"1\" class=\"dataframe\">\n",
       "  <thead>\n",
       "    <tr style=\"text-align: right;\">\n",
       "      <th></th>\n",
       "      <th>PassengerId</th>\n",
       "      <th>Survived</th>\n",
       "      <th>Pclass</th>\n",
       "      <th>Name</th>\n",
       "      <th>Sex</th>\n",
       "      <th>Age</th>\n",
       "      <th>SibSp</th>\n",
       "      <th>Parch</th>\n",
       "      <th>Ticket</th>\n",
       "      <th>Fare</th>\n",
       "      <th>Cabin</th>\n",
       "      <th>Embarked</th>\n",
       "    </tr>\n",
       "  </thead>\n",
       "  <tbody>\n",
       "    <tr>\n",
       "      <th>0</th>\n",
       "      <td>1</td>\n",
       "      <td>0</td>\n",
       "      <td>3</td>\n",
       "      <td>Braund, Mr. Owen Harris</td>\n",
       "      <td>male</td>\n",
       "      <td>22.0</td>\n",
       "      <td>1</td>\n",
       "      <td>0</td>\n",
       "      <td>A/5 21171</td>\n",
       "      <td>7.2500</td>\n",
       "      <td>NaN</td>\n",
       "      <td>S</td>\n",
       "    </tr>\n",
       "    <tr>\n",
       "      <th>1</th>\n",
       "      <td>2</td>\n",
       "      <td>1</td>\n",
       "      <td>1</td>\n",
       "      <td>Cumings, Mrs. John Bradley (Florence Briggs Th...</td>\n",
       "      <td>female</td>\n",
       "      <td>38.0</td>\n",
       "      <td>1</td>\n",
       "      <td>0</td>\n",
       "      <td>PC 17599</td>\n",
       "      <td>71.2833</td>\n",
       "      <td>C85</td>\n",
       "      <td>C</td>\n",
       "    </tr>\n",
       "    <tr>\n",
       "      <th>2</th>\n",
       "      <td>3</td>\n",
       "      <td>1</td>\n",
       "      <td>3</td>\n",
       "      <td>Heikkinen, Miss. Laina</td>\n",
       "      <td>female</td>\n",
       "      <td>26.0</td>\n",
       "      <td>0</td>\n",
       "      <td>0</td>\n",
       "      <td>STON/O2. 3101282</td>\n",
       "      <td>7.9250</td>\n",
       "      <td>NaN</td>\n",
       "      <td>S</td>\n",
       "    </tr>\n",
       "    <tr>\n",
       "      <th>3</th>\n",
       "      <td>4</td>\n",
       "      <td>1</td>\n",
       "      <td>1</td>\n",
       "      <td>Futrelle, Mrs. Jacques Heath (Lily May Peel)</td>\n",
       "      <td>female</td>\n",
       "      <td>35.0</td>\n",
       "      <td>1</td>\n",
       "      <td>0</td>\n",
       "      <td>113803</td>\n",
       "      <td>53.1000</td>\n",
       "      <td>C123</td>\n",
       "      <td>S</td>\n",
       "    </tr>\n",
       "    <tr>\n",
       "      <th>4</th>\n",
       "      <td>5</td>\n",
       "      <td>0</td>\n",
       "      <td>3</td>\n",
       "      <td>Allen, Mr. William Henry</td>\n",
       "      <td>male</td>\n",
       "      <td>35.0</td>\n",
       "      <td>0</td>\n",
       "      <td>0</td>\n",
       "      <td>373450</td>\n",
       "      <td>8.0500</td>\n",
       "      <td>NaN</td>\n",
       "      <td>S</td>\n",
       "    </tr>\n",
       "    <tr>\n",
       "      <th>5</th>\n",
       "      <td>6</td>\n",
       "      <td>0</td>\n",
       "      <td>3</td>\n",
       "      <td>Moran, Mr. James</td>\n",
       "      <td>male</td>\n",
       "      <td>NaN</td>\n",
       "      <td>0</td>\n",
       "      <td>0</td>\n",
       "      <td>330877</td>\n",
       "      <td>8.4583</td>\n",
       "      <td>NaN</td>\n",
       "      <td>Q</td>\n",
       "    </tr>\n",
       "    <tr>\n",
       "      <th>6</th>\n",
       "      <td>7</td>\n",
       "      <td>0</td>\n",
       "      <td>1</td>\n",
       "      <td>McCarthy, Mr. Timothy J</td>\n",
       "      <td>male</td>\n",
       "      <td>54.0</td>\n",
       "      <td>0</td>\n",
       "      <td>0</td>\n",
       "      <td>17463</td>\n",
       "      <td>51.8625</td>\n",
       "      <td>E46</td>\n",
       "      <td>S</td>\n",
       "    </tr>\n",
       "    <tr>\n",
       "      <th>7</th>\n",
       "      <td>8</td>\n",
       "      <td>0</td>\n",
       "      <td>3</td>\n",
       "      <td>Palsson, Master. Gosta Leonard</td>\n",
       "      <td>male</td>\n",
       "      <td>2.0</td>\n",
       "      <td>3</td>\n",
       "      <td>1</td>\n",
       "      <td>349909</td>\n",
       "      <td>21.0750</td>\n",
       "      <td>NaN</td>\n",
       "      <td>S</td>\n",
       "    </tr>\n",
       "    <tr>\n",
       "      <th>8</th>\n",
       "      <td>9</td>\n",
       "      <td>1</td>\n",
       "      <td>3</td>\n",
       "      <td>Johnson, Mrs. Oscar W (Elisabeth Vilhelmina Berg)</td>\n",
       "      <td>female</td>\n",
       "      <td>27.0</td>\n",
       "      <td>0</td>\n",
       "      <td>2</td>\n",
       "      <td>347742</td>\n",
       "      <td>11.1333</td>\n",
       "      <td>NaN</td>\n",
       "      <td>S</td>\n",
       "    </tr>\n",
       "    <tr>\n",
       "      <th>9</th>\n",
       "      <td>10</td>\n",
       "      <td>1</td>\n",
       "      <td>2</td>\n",
       "      <td>Nasser, Mrs. Nicholas (Adele Achem)</td>\n",
       "      <td>female</td>\n",
       "      <td>14.0</td>\n",
       "      <td>1</td>\n",
       "      <td>0</td>\n",
       "      <td>237736</td>\n",
       "      <td>30.0708</td>\n",
       "      <td>NaN</td>\n",
       "      <td>C</td>\n",
       "    </tr>\n",
       "  </tbody>\n",
       "</table>\n",
       "</div>"
      ],
      "text/plain": [
       "   PassengerId  Survived  Pclass  \\\n",
       "0            1         0       3   \n",
       "1            2         1       1   \n",
       "2            3         1       3   \n",
       "3            4         1       1   \n",
       "4            5         0       3   \n",
       "5            6         0       3   \n",
       "6            7         0       1   \n",
       "7            8         0       3   \n",
       "8            9         1       3   \n",
       "9           10         1       2   \n",
       "\n",
       "                                                Name     Sex   Age  SibSp  \\\n",
       "0                            Braund, Mr. Owen Harris    male  22.0      1   \n",
       "1  Cumings, Mrs. John Bradley (Florence Briggs Th...  female  38.0      1   \n",
       "2                             Heikkinen, Miss. Laina  female  26.0      0   \n",
       "3       Futrelle, Mrs. Jacques Heath (Lily May Peel)  female  35.0      1   \n",
       "4                           Allen, Mr. William Henry    male  35.0      0   \n",
       "5                                   Moran, Mr. James    male   NaN      0   \n",
       "6                            McCarthy, Mr. Timothy J    male  54.0      0   \n",
       "7                     Palsson, Master. Gosta Leonard    male   2.0      3   \n",
       "8  Johnson, Mrs. Oscar W (Elisabeth Vilhelmina Berg)  female  27.0      0   \n",
       "9                Nasser, Mrs. Nicholas (Adele Achem)  female  14.0      1   \n",
       "\n",
       "   Parch            Ticket     Fare Cabin Embarked  \n",
       "0      0         A/5 21171   7.2500   NaN        S  \n",
       "1      0          PC 17599  71.2833   C85        C  \n",
       "2      0  STON/O2. 3101282   7.9250   NaN        S  \n",
       "3      0            113803  53.1000  C123        S  \n",
       "4      0            373450   8.0500   NaN        S  \n",
       "5      0            330877   8.4583   NaN        Q  \n",
       "6      0             17463  51.8625   E46        S  \n",
       "7      1            349909  21.0750   NaN        S  \n",
       "8      2            347742  11.1333   NaN        S  \n",
       "9      0            237736  30.0708   NaN        C  "
      ]
     },
     "execution_count": 135,
     "metadata": {},
     "output_type": "execute_result"
    }
   ],
   "source": [
    "import numpy as np\n",
    "import pandas as pd\n",
    "import matplotlib.pyplot as plt\n",
    "import seaborn as sns\n",
    "import math\n",
    "\n",
    "\n",
    "%matplotlib inline\n",
    "\n",
    "titanic_file = 'titanic_data.csv'\n",
    "titanic_data = pd.read_csv(titanic_file)\n",
    "\n",
    "titanic_data.head(10)"
   ]
  },
  {
   "cell_type": "markdown",
   "metadata": {},
   "source": [
    "#### 3.1.1) Passageiros por gênero\n",
    "Os dados de gênero são úteis para conhecer e relacionar a quantidade de sobreviventes homens e mulheres."
   ]
  },
  {
   "cell_type": "code",
   "execution_count": 136,
   "metadata": {
    "collapsed": false
   },
   "outputs": [
    {
     "name": "stdout",
     "output_type": "stream",
     "text": [
      "Total de passageiros: 891\n",
      "Sex\n",
      "female    314\n",
      "male      577\n",
      "dtype: int64\n"
     ]
    },
    {
     "data": {
      "text/plain": [
       "<seaborn.axisgrid.FacetGrid at 0x15ee0da0>"
      ]
     },
     "execution_count": 136,
     "metadata": {},
     "output_type": "execute_result"
    },
    {
     "data": {
      "image/png": "[encoded data removed]",
      "text/plain": [
       "<matplotlib.figure.Figure at 0x15ee0e48>"
      ]
     },
     "metadata": {},
     "output_type": "display_data"
    }
   ],
   "source": [
    "print \"Total de passageiros:\", titanic_data.PassengerId.count()\n",
    "print titanic_data.groupby(\"Sex\").size()\n",
    "\n",
    "c = sns.factorplot(x=\"Sex\", data=titanic_data, kind=\"count\")\n",
    "c.fig.suptitle(\"(I) Quantidade por genero\")\n",
    "c.set_xticklabels(step=2)"
   ]
  },
  {
   "cell_type": "markdown",
   "metadata": {},
   "source": [
    "#### 3.1.2) Distribuição por idades\n",
    "A distribuição dos passageiros por idade é apresentada para realizar um comparativo entre sobreviventes adultos e crianças."
   ]
  },
  {
   "cell_type": "code",
   "execution_count": 137,
   "metadata": {
    "collapsed": false
   },
   "outputs": [
    {
     "name": "stdout",
     "output_type": "stream",
     "text": [
      "Idade media:  29.6991176471\n",
      "Desvio padrao:  14.5264973323\n"
     ]
    },
    {
     "data": {
      "text/plain": [
       "<seaborn.axisgrid.FacetGrid at 0x166facf8>"
      ]
     },
     "execution_count": 137,
     "metadata": {},
     "output_type": "execute_result"
    },
    {
     "data": {
      "image/png": "[encoded data removed]",
      "text/plain": [
       "<matplotlib.figure.Figure at 0x166faba8>"
      ]
     },
     "metadata": {},
     "output_type": "display_data"
    }
   ],
   "source": [
    "print \"Idade media: \", titanic_data['Age'].mean()\n",
    "print \"Desvio padrao: \", titanic_data['Age'].std()\n",
    "\n",
    "h = sns.FacetGrid(titanic_data, margin_titles=True)\n",
    "h.fig.suptitle(\"(II) Distribuicao de idade\")\n",
    "h.map(plt.hist, \"Age\", bins=10)\n"
   ]
  },
  {
   "cell_type": "markdown",
   "metadata": {},
   "source": [
    "#### 3.1.3) Passageiros agrupados por classe da cabine\n",
    "O conhecimento do número de passageiros agrupados por classe da cabine é importante para verificar a correlação entre poder aquisitivo e sobrevivência no acidente."
   ]
  },
  {
   "cell_type": "code",
   "execution_count": 138,
   "metadata": {
    "collapsed": false
   },
   "outputs": [
    {
     "data": {
      "text/plain": [
       "<seaborn.axisgrid.FacetGrid at 0x14d1ca20>"
      ]
     },
     "execution_count": 138,
     "metadata": {},
     "output_type": "execute_result"
    },
    {
     "data": {
      "image/png": "[encoded data removed]",
      "text/plain": [
       "<matplotlib.figure.Figure at 0x1701a978>"
      ]
     },
     "metadata": {},
     "output_type": "display_data"
    }
   ],
   "source": [
    "b = sns.factorplot(x=\"Pclass\", data=titanic_data, kind=\"count\")\n",
    "b.fig.suptitle(\"(III) Quantidade por classe economica\")\n",
    "b.set_xticklabels(step=2)\n"
   ]
  },
  {
   "cell_type": "markdown",
   "metadata": {},
   "source": [
    "### 3.2) Preparação dos dados\n",
    "Durante essa fase é verificada a existência de falhas e valores espúrios e corrigidos para valores aceitáveis. Ao final realizamos os testes novamente para garantir que os dados foram corrigidos."
   ]
  },
  {
   "cell_type": "markdown",
   "metadata": {},
   "source": [
    "#### 3.2.1) Checagem\n",
    "<p>Uma vez que em nossa análise são utilizados dados de Idade, Gênero e Classe (Pclass), devemos checar a consistência de seus valores, como procurar valores não numéricos para idade, valores impossíveis como idades negativas ou muito superior ao padrão humano, sexo indefinido ou com possíveis erros de digitação, classes faltantes ou diferentes das 3 conhecidas (primeira, segunda e terceira).</p>\n",
    "\n",
    "<p><b>1- Checagem de idade:</b></p>"
   ]
  },
  {
   "cell_type": "code",
   "execution_count": 139,
   "metadata": {
    "collapsed": false
   },
   "outputs": [
    {
     "data": {
      "text/plain": [
       "count    714.000000\n",
       "mean      29.699118\n",
       "std       14.526497\n",
       "min        0.420000\n",
       "25%             NaN\n",
       "50%             NaN\n",
       "75%             NaN\n",
       "max       80.000000\n",
       "Name: Age, dtype: float64"
      ]
     },
     "execution_count": 139,
     "metadata": {},
     "output_type": "execute_result"
    }
   ],
   "source": [
    "titanic_data.Age.describe()"
   ]
  },
  {
   "cell_type": "markdown",
   "metadata": {},
   "source": [
    "Como podemos perceber, as idades estão dentro de limites aceitáveis, porém aparentemente  há valores faltantes ou não numéricos. A quantidade de registro de idade (714) é bem menor do que a quantidade de registos de passageiros disponíveis (891). Vamos verificar a quantidade de valores nulos:"
   ]
  },
  {
   "cell_type": "code",
   "execution_count": 140,
   "metadata": {
    "collapsed": false
   },
   "outputs": [
    {
     "data": {
      "text/plain": [
       "177"
      ]
     },
     "execution_count": 140,
     "metadata": {},
     "output_type": "execute_result"
    }
   ],
   "source": [
    "titanic_data.Age.isnull().sum()"
   ]
  },
  {
   "cell_type": "markdown",
   "metadata": {},
   "source": [
    "<b>2- Checagem de sexo:</b>"
   ]
  },
  {
   "cell_type": "code",
   "execution_count": 141,
   "metadata": {
    "collapsed": false
   },
   "outputs": [
    {
     "data": {
      "text/plain": [
       "male      577\n",
       "female    314\n",
       "Name: Sex, dtype: int64"
      ]
     },
     "execution_count": 141,
     "metadata": {},
     "output_type": "execute_result"
    }
   ],
   "source": [
    "titanic_data.Sex.value_counts()"
   ]
  },
  {
   "cell_type": "markdown",
   "metadata": {},
   "source": [
    "<p>Aparentemente todos os registros possuem um sexo válido. A soma de masculinos e femininos da 891, como esperado.</p>\n",
    "\n",
    "<b>3- Checagem de classe:</b>"
   ]
  },
  {
   "cell_type": "code",
   "execution_count": 142,
   "metadata": {
    "collapsed": false
   },
   "outputs": [
    {
     "data": {
      "text/plain": [
       "3    491\n",
       "1    216\n",
       "2    184\n",
       "Name: Pclass, dtype: int64"
      ]
     },
     "execution_count": 142,
     "metadata": {},
     "output_type": "execute_result"
    }
   ],
   "source": [
    "titanic_data.Pclass.value_counts()"
   ]
  },
  {
   "cell_type": "markdown",
   "metadata": {},
   "source": [
    "<p>Todos os valores de classe correspondem aos conhecidos e não há dados faltantes.</p>\n",
    "\n",
    "#### 3.2.2) Preenchendo Falhas\n",
    "<p>Como podemos verificar anteriormente existem 177 valores faltantes em Age.</p>\n",
    "<p>Para preencher esses valores, vamos agrupar os registros por Sex e Pclass e preenchê-los com a média para o gênero e classe.</p>\n",
    "<p>Ex: Quando encontrado uma idade faltante, preenche esse valor com a média de idade do grupo e classe a qual o passageiro pertence.</p>\n",
    "<p>Finalmente reexecutamos o mesmo teste realizado anteriormente e verificamos se ainda há alguma falha.</p>"
   ]
  },
  {
   "cell_type": "code",
   "execution_count": 143,
   "metadata": {
    "collapsed": false
   },
   "outputs": [
    {
     "name": "stdout",
     "output_type": "stream",
     "text": [
      "Sex     Pclass\n",
      "female  1         34.611765\n",
      "        2         28.722973\n",
      "        3         21.750000\n",
      "male    1         41.281386\n",
      "        2         30.740707\n",
      "        3         26.507589\n",
      "Name: Age, dtype: float64\n"
     ]
    }
   ],
   "source": [
    "# Grouping missing ages by Pclass and sex\n",
    "mean_ages =  titanic_data.groupby(['Sex','Pclass'])['Age'].mean()\n",
    "\n",
    "print mean_ages\n"
   ]
  },
  {
   "cell_type": "code",
   "execution_count": 144,
   "metadata": {
    "collapsed": true
   },
   "outputs": [],
   "source": [
    "def fill_missing_ages(register):\n",
    "    \"\"\"\n",
    "    When it found a missing age, use his Pclass and Sex to fill this age with the mean of the group.\n",
    "    Return: mean of the group if age is missing; or the age found.\n",
    "    \"\"\"\n",
    "    global mean_ages\n",
    "    if math.isnan(register['Age']):\n",
    "        return mean_ages[register['Sex']][register['Pclass']]\n",
    "    return register['Age']\n",
    "\n",
    "titanic_data['Age'] = titanic_data.apply(fill_missing_ages, axis=1)"
   ]
  },
  {
   "cell_type": "code",
   "execution_count": 145,
   "metadata": {
    "collapsed": false
   },
   "outputs": [
    {
     "data": {
      "text/plain": [
       "0"
      ]
     },
     "execution_count": 145,
     "metadata": {},
     "output_type": "execute_result"
    }
   ],
   "source": [
    "titanic_data.Age.isnull().sum()"
   ]
  },
  {
   "cell_type": "markdown",
   "metadata": {},
   "source": [
    "Não há mais dados nulos. E assim ficam distribuídos nossos dados de Age:"
   ]
  },
  {
   "cell_type": "code",
   "execution_count": 146,
   "metadata": {
    "collapsed": false
   },
   "outputs": [
    {
     "data": {
      "text/plain": [
       "count    891.000000\n",
       "mean      29.318643\n",
       "std       13.281103\n",
       "min        0.420000\n",
       "25%       21.750000\n",
       "50%       26.507589\n",
       "75%       36.000000\n",
       "max       80.000000\n",
       "Name: Age, dtype: float64"
      ]
     },
     "execution_count": 146,
     "metadata": {},
     "output_type": "execute_result"
    }
   ],
   "source": [
    "titanic_data.Age.describe()"
   ]
  },
  {
   "cell_type": "markdown",
   "metadata": {},
   "source": [
    "### 3.3) Classificação dos dados\n",
    "Será criado um grupo chamado GAclass (gender/age class) que classifica o passageiro como sendo (1) adulto do sexo masculino, (2) adulto do sexo feminino e (3) criança independente do sexo. Um indivíduo é classificado como adulto (homem/mulher) a partir dos 16 anos uma vez que essa idade é considerada a primeira fase da maioridade nos EUA (país de destino do navio).\n"
   ]
  },
  {
   "cell_type": "code",
   "execution_count": 147,
   "metadata": {
    "collapsed": false
   },
   "outputs": [
    {
     "data": {
      "text/html": [
       "<div>\n",
       "<table border=\"1\" class=\"dataframe\">\n",
       "  <thead>\n",
       "    <tr style=\"text-align: right;\">\n",
       "      <th></th>\n",
       "      <th>PassengerId</th>\n",
       "      <th>Survived</th>\n",
       "      <th>Pclass</th>\n",
       "      <th>Name</th>\n",
       "      <th>Sex</th>\n",
       "      <th>Age</th>\n",
       "      <th>SibSp</th>\n",
       "      <th>Parch</th>\n",
       "      <th>Ticket</th>\n",
       "      <th>Fare</th>\n",
       "      <th>Cabin</th>\n",
       "      <th>Embarked</th>\n",
       "      <th>GAclass</th>\n",
       "    </tr>\n",
       "  </thead>\n",
       "  <tbody>\n",
       "    <tr>\n",
       "      <th>0</th>\n",
       "      <td>1</td>\n",
       "      <td>0</td>\n",
       "      <td>3</td>\n",
       "      <td>Braund, Mr. Owen Harris</td>\n",
       "      <td>male</td>\n",
       "      <td>22.0</td>\n",
       "      <td>1</td>\n",
       "      <td>0</td>\n",
       "      <td>A/5 21171</td>\n",
       "      <td>7.2500</td>\n",
       "      <td>NaN</td>\n",
       "      <td>S</td>\n",
       "      <td>1</td>\n",
       "    </tr>\n",
       "    <tr>\n",
       "      <th>1</th>\n",
       "      <td>2</td>\n",
       "      <td>1</td>\n",
       "      <td>1</td>\n",
       "      <td>Cumings, Mrs. John Bradley (Florence Briggs Th...</td>\n",
       "      <td>female</td>\n",
       "      <td>38.0</td>\n",
       "      <td>1</td>\n",
       "      <td>0</td>\n",
       "      <td>PC 17599</td>\n",
       "      <td>71.2833</td>\n",
       "      <td>C85</td>\n",
       "      <td>C</td>\n",
       "      <td>2</td>\n",
       "    </tr>\n",
       "    <tr>\n",
       "      <th>2</th>\n",
       "      <td>3</td>\n",
       "      <td>1</td>\n",
       "      <td>3</td>\n",
       "      <td>Heikkinen, Miss. Laina</td>\n",
       "      <td>female</td>\n",
       "      <td>26.0</td>\n",
       "      <td>0</td>\n",
       "      <td>0</td>\n",
       "      <td>STON/O2. 3101282</td>\n",
       "      <td>7.9250</td>\n",
       "      <td>NaN</td>\n",
       "      <td>S</td>\n",
       "      <td>2</td>\n",
       "    </tr>\n",
       "    <tr>\n",
       "      <th>3</th>\n",
       "      <td>4</td>\n",
       "      <td>1</td>\n",
       "      <td>1</td>\n",
       "      <td>Futrelle, Mrs. Jacques Heath (Lily May Peel)</td>\n",
       "      <td>female</td>\n",
       "      <td>35.0</td>\n",
       "      <td>1</td>\n",
       "      <td>0</td>\n",
       "      <td>113803</td>\n",
       "      <td>53.1000</td>\n",
       "      <td>C123</td>\n",
       "      <td>S</td>\n",
       "      <td>2</td>\n",
       "    </tr>\n",
       "    <tr>\n",
       "      <th>4</th>\n",
       "      <td>5</td>\n",
       "      <td>0</td>\n",
       "      <td>3</td>\n",
       "      <td>Allen, Mr. William Henry</td>\n",
       "      <td>male</td>\n",
       "      <td>35.0</td>\n",
       "      <td>0</td>\n",
       "      <td>0</td>\n",
       "      <td>373450</td>\n",
       "      <td>8.0500</td>\n",
       "      <td>NaN</td>\n",
       "      <td>S</td>\n",
       "      <td>1</td>\n",
       "    </tr>\n",
       "  </tbody>\n",
       "</table>\n",
       "</div>"
      ],
      "text/plain": [
       "   PassengerId  Survived  Pclass  \\\n",
       "0            1         0       3   \n",
       "1            2         1       1   \n",
       "2            3         1       3   \n",
       "3            4         1       1   \n",
       "4            5         0       3   \n",
       "\n",
       "                                                Name     Sex   Age  SibSp  \\\n",
       "0                            Braund, Mr. Owen Harris    male  22.0      1   \n",
       "1  Cumings, Mrs. John Bradley (Florence Briggs Th...  female  38.0      1   \n",
       "2                             Heikkinen, Miss. Laina  female  26.0      0   \n",
       "3       Futrelle, Mrs. Jacques Heath (Lily May Peel)  female  35.0      1   \n",
       "4                           Allen, Mr. William Henry    male  35.0      0   \n",
       "\n",
       "   Parch            Ticket     Fare Cabin Embarked  GAclass  \n",
       "0      0         A/5 21171   7.2500   NaN        S        1  \n",
       "1      0          PC 17599  71.2833   C85        C        2  \n",
       "2      0  STON/O2. 3101282   7.9250   NaN        S        2  \n",
       "3      0            113803  53.1000  C123        S        2  \n",
       "4      0            373450   8.0500   NaN        S        1  "
      ]
     },
     "execution_count": 147,
     "metadata": {},
     "output_type": "execute_result"
    }
   ],
   "source": [
    "def classify(register):\n",
    "    \"\"\"\n",
    "    Passengers were classified according their age/gender as: woman, man or children.\n",
    "        man: sex = \"male\" and age > 15\n",
    "        woman: sex = \"female\" and age > 15\n",
    "        children: age <=15\n",
    "        \n",
    "    Parameter: a register with at less Age and Sex\n",
    "    Return 1 if man, 2 if woman, 3 if children\n",
    "    \"\"\"\n",
    "    \n",
    "    if register['Sex'] == 'male' and register['Age'] > 15:\n",
    "        return 1\n",
    "    if register['Sex'] == 'female' and register['Age'] > 15:\n",
    "        return 2\n",
    "    return 3\n",
    "    \n",
    "titanic_data['GAclass'] = titanic_data.apply(classify, axis=1)\n",
    "\n",
    "titanic_data.head()"
   ]
  },
  {
   "cell_type": "code",
   "execution_count": 148,
   "metadata": {
    "collapsed": false
   },
   "outputs": [
    {
     "name": "stdout",
     "output_type": "stream",
     "text": [
      "1    537\n",
      "2    271\n",
      "3     83\n",
      "Name: GAclass, dtype: int64\n"
     ]
    },
    {
     "data": {
      "text/plain": [
       "<matplotlib.text.Text at 0x16bf5240>"
      ]
     },
     "execution_count": 148,
     "metadata": {},
     "output_type": "execute_result"
    },
    {
     "data": {
      "image/png": "[encoded data removed]",
      "text/plain": [
       "<matplotlib.figure.Figure at 0x15e6e400>"
      ]
     },
     "metadata": {},
     "output_type": "display_data"
    }
   ],
   "source": [
    "print titanic_data['GAclass'].value_counts()\n",
    "\n",
    "b = sns.factorplot(x=\"GAclass\", data=titanic_data, kind=\"count\")\n",
    "b.fig.suptitle(\"(IV) Quantidade por grupo\")\n"
   ]
  },
  {
   "cell_type": "markdown",
   "metadata": {},
   "source": [
    "### 3.4) Calculando correlações\n",
    "\n",
    "Usando o método de correlação Pearson R implementado pela biblioteca Pandas, podemos verificar a correlação entre as variáveis."
   ]
  },
  {
   "cell_type": "code",
   "execution_count": 149,
   "metadata": {
    "collapsed": false
   },
   "outputs": [
    {
     "name": "stdout",
     "output_type": "stream",
     "text": [
      "Coerrelação entre age/gender(GAclass) e sobrevivência:  0.472636807651\n",
      "Correlação entre classe da cabine (Pclass) e sobrevivência:  -0.338481035961\n"
     ]
    }
   ],
   "source": [
    "correlation = titanic_data.corr()\n",
    "\n",
    "print \"Coerrelação entre age/gender(GAclass) e sobrevivência: \",correlation['Survived']['GAclass']\n",
    "print \"Correlação entre classe da cabine (Pclass) e sobrevivência: \",correlation['Survived']['Pclass']"
   ]
  },
  {
   "cell_type": "code",
   "execution_count": 150,
   "metadata": {
    "collapsed": false
   },
   "outputs": [
    {
     "name": "stdout",
     "output_type": "stream",
     "text": [
      "Pclass  GAclass\n",
      "1       1          0.352941\n",
      "        2          0.978022\n",
      "        3          0.833333\n",
      "2       1          0.080808\n",
      "        2          0.909091\n",
      "        3          1.000000\n",
      "3       1          0.119122\n",
      "        2          0.491228\n",
      "        3          0.431034\n",
      "Name: Survived, dtype: float64\n",
      "2    205\n",
      "1     88\n",
      "3     49\n",
      "Name: GAclass, dtype: int64\n"
     ]
    },
    {
     "data": {
      "image/png": "[encoded data removed]",
      "text/plain": [
       "<matplotlib.figure.Figure at 0x168b1c88>"
      ]
     },
     "metadata": {},
     "output_type": "display_data"
    }
   ],
   "source": [
    "# Gráfico de barras comparando o grupo GAclass e classe Pclass\n",
    "p = sns.factorplot(x=\"Pclass\", y=\"Survived\", hue=\"GAclass\", data=titanic_data,kind=\"bar\")\n",
    "p.fig.suptitle(\"(V) Sobrevivencia dos Passageiros por Pclass e GAclass\")\n",
    "p.set_ylabels(\"sobrevivencia\")\n",
    "\n",
    "# Agrupando dados de sobrevivência por classe e grupo\n",
    "survival_mean = titanic_data.groupby([\"Pclass\",\"GAclass\"])[\"Survived\"].mean()\n",
    "print survival_mean\n",
    "\n",
    "###\n",
    "print titanic_data['GAclass'][titanic_data.Survived == 1].value_counts()  \n"
   ]
  },
  {
   "cell_type": "markdown",
   "metadata": {},
   "source": [
    "### 4) Conclusão\n",
    "\n",
    "<p>Através dessa análise dos dados, podemos concluir que há uma correlação entre sobrevivência e o grupo (gênero/idade) ao qual pertence o passageiro. O valor Pearson R 0.472636807651 mostra uma correlação positiva moderada entre o grupo e sobrevivência, onde vemos que mulheres e crianças poderiam ter uma chance maior de sobrevivênciado que homens. Na correlação entre classe econômica do passageiro e sobrevivência, o valor -0.338481035961 apresenta uma correlação negativa entre situação econômica e sobrevivência, onde os pobres podem ter tido uma menor chance de sobrevivência.</p>\n",
    "<p>Comparando os gráficos I e V, vemos que mesmo havendo maior número de homens no navio, um número muito superior de mulheres sobreviveu. Também há disparidade entre sobrevivência entre classes das cabines, onde vemos um número maior de passageiros na terceira classe e menor número de sobreviventes comparando os gráficos III e V. Conhecendo a distribuição de idades apresentada no grafico II e posteriormente a distribuição por grupo GAclass no gráfico IV, percebemos que o número de crianças é bastante inferior ao de adultos a bordo (83 crianças e 808 adultos). Fazendo uma comparação com o gráfico V, vemos que ainda assim elas tiveram um alto índice de sobrevivência em relação aos outros grupos (49/83 = ~59% para as crianças e 293/808 = ~36% para os adultos), provavelmente puxado pela baixa sobrevivência dos homens.</p>\n",
    "<p>Finalmente, o gráfico V nos mostra que a quantidade de sobreviventes dos grupos mulheres e crianças para as três classes foi expressivamente maior. Na média os passageiros de primeira classe sobreviveram mais que os da segunda, e estes mais que os da terceira, mostrando também uma correlação entre poder econômico e sobrevivência. Como destaques, vemos que: (i) os passageiros homens (grupo com menor número de sobreviventes) da primeira classe (0.35) sobreviveram mais do que a soma de de sobreviventes do mesmo grupo nas classes inferiores (0.08 + 0.12 = 0.20); e (ii) apenas na 2ª classe houve maior média de sobrevivência das crianças (1.00 contra 0.90) , enquanto nas outras as mulheres tiveram maior número (0.98 contra 0.83 na primeira classe e 0.49 contra 0.43 na terceira).</p>\n",
    "<p>É importante ressaltar que essas são apenas análises iniciais observadas a partir dos dados disponíveis. E tais correlações não implicam necessariamente uma causalidade para os fatos. Para tal é necessário a realização de mais testes. Sendo assim, como trabalhos futuros podem-se utilizados os testes adequados para verificar se existem relações de causa-efeito. Também considera-se a possibilidade de realizar o estudo novamente utilizando técnicas de aprendizado de máquina e comparar as conclusões entre os dois estudos.</p>"
   ]
  },
  {
   "cell_type": "markdown",
   "metadata": {},
   "source": [
    "### 5) Leituras\n",
    "* MatplotLib [http://matplotlib.org/users/pyplot_tutorial.html]\n",
    "* Data Visualization in Python: Advanced Functionality in Seaborn [http://blog.insightdatalabs.com/advanced-functionality-in-seaborn/]\n",
    "* Pandas.Dataframe.corr [http://pandas.pydata.org/pandas-docs/stable/generated/pandas.DataFrame.corr.html]\n",
    "* Seaboorn Examples [http://seaborn.pydata.org/examples/index.html]\n",
    "* Interpretação do coeficiente de correlação [http://leg.ufpr.br/~silvia/CE003/node74.html]"
   ]
  },
  {
   "cell_type": "code",
   "execution_count": null,
   "metadata": {
    "collapsed": true
   },
   "outputs": [],
   "source": []
  }
 ],
 "metadata": {
  "anaconda-cloud": {},
  "kernelspec": {
   "display_name": "Python [conda root]",
   "language": "python",
   "name": "conda-root-py"
  },
  "language_info": {
   "codemirror_mode": {
    "name": "ipython",
    "version": 2
   },
   "file_extension": ".py",
   "mimetype": "text/x-python",
   "name": "python",
   "nbconvert_exporter": "python",
   "pygments_lexer": "ipython2",
   "version": "2.7.12"
  }
 },
 "nbformat": 4,
 "nbformat_minor": 1
}
