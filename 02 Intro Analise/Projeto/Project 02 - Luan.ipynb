{
 "cells": [
  {
   "cell_type": "markdown",
   "metadata": {},
   "source": [
    "# Investigando dados do Titanic\n",
    "\n",
    "* Dataset [https://www.udacity.com/api/nodes/5420148578/supplemental_media/titanic-datacsv/download]\n",
    "* Data description [https://www.kaggle.com/c/titanic/data]\n",
    "\n",
    "## 1) Introdução\n",
    "<p>Como vimos no filme dirigido por James Cameron que narra o acidente do navio Titanic, mulheres e crianças são prioridade em um resgate. Nesse contexto, esse estudo tem como objetivo analisar os dados dos passageiros e verificar a correlação entre gênero, idade e sobrevivência. Adicionalmente, a correlação entre poder aquisitivo do passageiro e sua sobrevivência também será analisada. Essa informação será inferida a partir do dado se o bilhete comprado foi para uma cabine de primeira, segunda ou terceira classe.</p>\n",
    "As questões que serão respondidas:\n",
    "* Idade e gênero influenciaram a sobrevivência dos passageiros?\n",
    "* A classe a qual eles pertenciam teve alguma influência?\n",
    "\n",
    "## 2) Variáveis\n",
    "* <b>Dependente: </b> Sobrevivência do Passageiro\n",
    "* <b>Independente: </b> Gênero, idade e classe da cabine"
   ]
  },
  {
   "cell_type": "markdown",
   "metadata": {},
   "source": [
    "## 3) Análise\n",
    "\n",
    "### 3.1) Conhecendo os dados"
   ]
  },
  {
   "cell_type": "code",
   "execution_count": 62,
   "metadata": {
    "collapsed": false
   },
   "outputs": [
    {
     "data": {
      "text/html": [
       "<div>\n",
       "<table border=\"1\" class=\"dataframe\">\n",
       "  <thead>\n",
       "    <tr style=\"text-align: right;\">\n",
       "      <th></th>\n",
       "      <th>PassengerId</th>\n",
       "      <th>Survived</th>\n",
       "      <th>Pclass</th>\n",
       "      <th>Name</th>\n",
       "      <th>Sex</th>\n",
       "      <th>Age</th>\n",
       "      <th>SibSp</th>\n",
       "      <th>Parch</th>\n",
       "      <th>Ticket</th>\n",
       "      <th>Fare</th>\n",
       "      <th>Cabin</th>\n",
       "      <th>Embarked</th>\n",
       "    </tr>\n",
       "  </thead>\n",
       "  <tbody>\n",
       "    <tr>\n",
       "      <th>0</th>\n",
       "      <td>1</td>\n",
       "      <td>0</td>\n",
       "      <td>3</td>\n",
       "      <td>Braund, Mr. Owen Harris</td>\n",
       "      <td>male</td>\n",
       "      <td>22.0</td>\n",
       "      <td>1</td>\n",
       "      <td>0</td>\n",
       "      <td>A/5 21171</td>\n",
       "      <td>7.2500</td>\n",
       "      <td>NaN</td>\n",
       "      <td>S</td>\n",
       "    </tr>\n",
       "    <tr>\n",
       "      <th>1</th>\n",
       "      <td>2</td>\n",
       "      <td>1</td>\n",
       "      <td>1</td>\n",
       "      <td>Cumings, Mrs. John Bradley (Florence Briggs Th...</td>\n",
       "      <td>female</td>\n",
       "      <td>38.0</td>\n",
       "      <td>1</td>\n",
       "      <td>0</td>\n",
       "      <td>PC 17599</td>\n",
       "      <td>71.2833</td>\n",
       "      <td>C85</td>\n",
       "      <td>C</td>\n",
       "    </tr>\n",
       "    <tr>\n",
       "      <th>2</th>\n",
       "      <td>3</td>\n",
       "      <td>1</td>\n",
       "      <td>3</td>\n",
       "      <td>Heikkinen, Miss. Laina</td>\n",
       "      <td>female</td>\n",
       "      <td>26.0</td>\n",
       "      <td>0</td>\n",
       "      <td>0</td>\n",
       "      <td>STON/O2. 3101282</td>\n",
       "      <td>7.9250</td>\n",
       "      <td>NaN</td>\n",
       "      <td>S</td>\n",
       "    </tr>\n",
       "    <tr>\n",
       "      <th>3</th>\n",
       "      <td>4</td>\n",
       "      <td>1</td>\n",
       "      <td>1</td>\n",
       "      <td>Futrelle, Mrs. Jacques Heath (Lily May Peel)</td>\n",
       "      <td>female</td>\n",
       "      <td>35.0</td>\n",
       "      <td>1</td>\n",
       "      <td>0</td>\n",
       "      <td>113803</td>\n",
       "      <td>53.1000</td>\n",
       "      <td>C123</td>\n",
       "      <td>S</td>\n",
       "    </tr>\n",
       "    <tr>\n",
       "      <th>4</th>\n",
       "      <td>5</td>\n",
       "      <td>0</td>\n",
       "      <td>3</td>\n",
       "      <td>Allen, Mr. William Henry</td>\n",
       "      <td>male</td>\n",
       "      <td>35.0</td>\n",
       "      <td>0</td>\n",
       "      <td>0</td>\n",
       "      <td>373450</td>\n",
       "      <td>8.0500</td>\n",
       "      <td>NaN</td>\n",
       "      <td>S</td>\n",
       "    </tr>\n",
       "  </tbody>\n",
       "</table>\n",
       "</div>"
      ],
      "text/plain": [
       "   PassengerId  Survived  Pclass  \\\n",
       "0            1         0       3   \n",
       "1            2         1       1   \n",
       "2            3         1       3   \n",
       "3            4         1       1   \n",
       "4            5         0       3   \n",
       "\n",
       "                                                Name     Sex   Age  SibSp  \\\n",
       "0                            Braund, Mr. Owen Harris    male  22.0      1   \n",
       "1  Cumings, Mrs. John Bradley (Florence Briggs Th...  female  38.0      1   \n",
       "2                             Heikkinen, Miss. Laina  female  26.0      0   \n",
       "3       Futrelle, Mrs. Jacques Heath (Lily May Peel)  female  35.0      1   \n",
       "4                           Allen, Mr. William Henry    male  35.0      0   \n",
       "\n",
       "   Parch            Ticket     Fare Cabin Embarked  \n",
       "0      0         A/5 21171   7.2500   NaN        S  \n",
       "1      0          PC 17599  71.2833   C85        C  \n",
       "2      0  STON/O2. 3101282   7.9250   NaN        S  \n",
       "3      0            113803  53.1000  C123        S  \n",
       "4      0            373450   8.0500   NaN        S  "
      ]
     },
     "execution_count": 62,
     "metadata": {},
     "output_type": "execute_result"
    }
   ],
   "source": [
    "import numpy as np\n",
    "import pandas as pd\n",
    "import matplotlib.pyplot as plt\n",
    "import seaborn as sns\n",
    "import math\n",
    "\n",
    "\n",
    "%matplotlib inline\n",
    "\n",
    "titanic_file = 'titanic_data.csv'\n",
    "titanic_data = pd.read_csv(titanic_file)\n",
    "\n",
    "titanic_data.head()"
   ]
  },
  {
   "cell_type": "markdown",
   "metadata": {},
   "source": [
    "#### 3.1.1) Passageiros por gênero"
   ]
  },
  {
   "cell_type": "code",
   "execution_count": 63,
   "metadata": {
    "collapsed": false
   },
   "outputs": [
    {
     "name": "stdout",
     "output_type": "stream",
     "text": [
      "Total de passageiros: 891\n",
      "Sex\n",
      "female    314\n",
      "male      577\n",
      "dtype: int64\n"
     ]
    },
    {
     "data": {
      "text/plain": [
       "<seaborn.axisgrid.FacetGrid at 0x10422748>"
      ]
     },
     "execution_count": 63,
     "metadata": {},
     "output_type": "execute_result"
    },
    {
     "data": {
      "image/png": "[encoded data removed]",
      "text/plain": [
       "<matplotlib.figure.Figure at 0x11cb9da0>"
      ]
     },
     "metadata": {},
     "output_type": "display_data"
    }
   ],
   "source": [
    "print \"Total de passageiros:\", titanic_data['PassengerId'].count()\n",
    "print titanic_data.groupby(\"Sex\").size()\n",
    "\n",
    "c = sns.factorplot(x=\"Sex\", data=titanic_data, kind=\"count\")\n",
    "c.fig.suptitle(\"(I) Quantidade por genero\")\n",
    "c.set_xticklabels(step=2)"
   ]
  },
  {
   "cell_type": "markdown",
   "metadata": {},
   "source": [
    "#### 3.1.2) Histograma de idades"
   ]
  },
  {
   "cell_type": "code",
   "execution_count": 65,
   "metadata": {
    "collapsed": false
   },
   "outputs": [
    {
     "name": "stdout",
     "output_type": "stream",
     "text": [
      "Idade media:  29.6991176471\n",
      "Desvio padrao:  14.5264973323\n"
     ]
    },
    {
     "data": {
      "text/plain": [
       "<seaborn.axisgrid.FacetGrid at 0x1306f898>"
      ]
     },
     "execution_count": 65,
     "metadata": {},
     "output_type": "execute_result"
    },
    {
     "data": {
      "image/png": "[encoded data removed]",
      "text/plain": [
       "<matplotlib.figure.Figure at 0x1306fb70>"
      ]
     },
     "metadata": {},
     "output_type": "display_data"
    }
   ],
   "source": [
    "print \"Idade media: \", titanic_data['Age'].mean()\n",
    "print \"Desvio padrao: \", titanic_data['Age'].std()\n",
    "\n",
    "h = sns.FacetGrid(titanic_data, margin_titles=True)\n",
    "h.fig.suptitle(\"(II) Distribuicao de idade\")\n",
    "h.map(plt.hist, \"Age\", bins=10)\n"
   ]
  },
  {
   "cell_type": "markdown",
   "metadata": {},
   "source": [
    "#### 3.1.3) Passageiros agrupados por classe da cabine"
   ]
  },
  {
   "cell_type": "code",
   "execution_count": 66,
   "metadata": {
    "collapsed": false
   },
   "outputs": [
    {
     "data": {
      "text/plain": [
       "<seaborn.axisgrid.FacetGrid at 0x1353a4a8>"
      ]
     },
     "execution_count": 66,
     "metadata": {},
     "output_type": "execute_result"
    },
    {
     "data": {
      "image/png": "[encoded data removed]",
      "text/plain": [
       "<matplotlib.figure.Figure at 0x1353a518>"
      ]
     },
     "metadata": {},
     "output_type": "display_data"
    }
   ],
   "source": [
    "b = sns.factorplot(x=\"Pclass\", data=titanic_data, kind=\"count\")\n",
    "b.fig.suptitle(\"(III) Quantidade por classe economica\")\n",
    "b.set_xticklabels(step=2)\n"
   ]
  },
  {
   "cell_type": "markdown",
   "metadata": {},
   "source": [
    "### 3.2) Preparação dos dados"
   ]
  },
  {
   "cell_type": "markdown",
   "metadata": {},
   "source": [
    "#### 3.2.1) Checagem\n",
    "<p>Foi utilizado esse método para verificar se está tudo OK com os dados. Essa checagem é feita nas variáveis Age, Pclass e Sex procurando se há registros inválidos (ex: sexo diferente de 'male' e 'female', classe diferente de 1,2 ou 3, idades negativas, etc)</p>\n",
    "<p>Se os registros estiverem OK, será retornado True. Se alguma falha for encontrada será retornado Falso e o valor do registro onde o problema foi encontrado.</p>\n",
    "<p>Ao final um teste é realizado e será impresso True caso esteja tudo OK e False caso não.</p>"
   ]
  },
  {
   "cell_type": "code",
   "execution_count": 67,
   "metadata": {
    "collapsed": false
   },
   "outputs": [],
   "source": [
    "def is_data_ok(data):\n",
    "    \"\"\"\n",
    "    From Titanic's test data, verify if chosen variables (Age, Pclass, Sex) show any problem like missing or suspicious data.\n",
    "    Return: True if everything is OK, False if found any problem and the respective value\n",
    "    \"\"\"\n",
    "    if data['Pclass'] not in (1,2,3):\n",
    "        print \"Invalid Pclass \",data['Pclass']\n",
    "        return False\n",
    "    if data['Sex'] not in ['male','female']:\n",
    "        print \"Invalid Sex \",data['Sex']\n",
    "        return False\n",
    "    if math.isnan(data['Age']) or data['Age'] < 0 or data['Age'] > 120:\n",
    "        print \"Invalid Age \",data['Age']\n",
    "        return False\n",
    "    return True\n"
   ]
  },
  {
   "cell_type": "code",
   "execution_count": 68,
   "metadata": {
    "collapsed": false
   },
   "outputs": [
    {
     "name": "stdout",
     "output_type": "stream",
     "text": [
      "Invalid Age  nan\n",
      "Invalid Age  nan\n",
      "Invalid Age  nan\n",
      "Invalid Age  nan\n",
      "Invalid Age  nan\n",
      "Invalid Age  nan\n",
      "Invalid Age  nan\n",
      "Invalid Age  nan\n",
      "Invalid Age  nan\n",
      "Invalid Age  nan\n",
      "Invalid Age  nan\n",
      "Invalid Age  nan\n",
      "Invalid Age  nan\n",
      "Invalid Age  nan\n",
      "Invalid Age  nan\n",
      "Invalid Age  nan\n",
      "Invalid Age  nan\n",
      "Invalid Age  nan\n",
      "Invalid Age  nan\n",
      "Invalid Age  nan\n",
      "Invalid Age  nan\n",
      "Invalid Age  nan\n",
      "Invalid Age  nan\n",
      "Invalid Age  nan\n",
      "Invalid Age  nan\n",
      "Invalid Age  nan\n",
      "Invalid Age  nan\n",
      "Invalid Age  nan\n",
      "Invalid Age  nan\n",
      "Invalid Age  nan\n",
      "Invalid Age  nan\n",
      "Invalid Age  nan\n",
      "Invalid Age  nan\n",
      "Invalid Age  nan\n",
      "Invalid Age  nan\n",
      "Invalid Age  nan\n",
      "Invalid Age  nan\n",
      "Invalid Age  nan\n",
      "Invalid Age  nan\n",
      "Invalid Age  nan\n",
      "Invalid Age  nan\n",
      "Invalid Age  nan\n",
      "Invalid Age  nan\n",
      "Invalid Age  nan\n",
      "Invalid Age  nan\n",
      "Invalid Age  nan\n",
      "Invalid Age  nan\n",
      "Invalid Age  nan\n",
      "Invalid Age  nan\n",
      "Invalid Age  nan\n",
      "Invalid Age  nan\n",
      "Invalid Age  nan\n",
      "Invalid Age  nan\n",
      "Invalid Age  nan\n",
      "Invalid Age  nan\n",
      "Invalid Age  nan\n",
      "Invalid Age  nan\n",
      "Invalid Age  nan\n",
      "Invalid Age  nan\n",
      "Invalid Age  nan\n",
      "Invalid Age  nan\n",
      "Invalid Age  nan\n",
      "Invalid Age  nan\n",
      "Invalid Age  nan\n",
      "Invalid Age  nan\n",
      "Invalid Age  nan\n",
      "Invalid Age  nan\n",
      "Invalid Age  nan\n",
      "Invalid Age  nan\n",
      "Invalid Age  nan\n",
      "Invalid Age  nan\n",
      "Invalid Age  nan\n",
      "Invalid Age  nan\n",
      "Invalid Age  nan\n",
      "Invalid Age  nan\n",
      "Invalid Age  nan\n",
      "Invalid Age  nan\n",
      "Invalid Age  nan\n",
      "Invalid Age  nan\n",
      "Invalid Age  nan\n",
      "Invalid Age  nan\n",
      "Invalid Age  nan\n",
      "Invalid Age  nan\n",
      "Invalid Age  nan\n",
      "Invalid Age  nan\n",
      "Invalid Age  nan\n",
      "Invalid Age  nan\n",
      "Invalid Age  nan\n",
      "Invalid Age  nan\n",
      "Invalid Age  nan\n",
      "Invalid Age  nan\n",
      "Invalid Age  nan\n",
      "Invalid Age  nan\n",
      "Invalid Age  nan\n",
      "Invalid Age  nan\n",
      "Invalid Age  nan\n",
      "Invalid Age  nan\n",
      "Invalid Age  nan\n",
      "Invalid Age  nan\n",
      "Invalid Age  nan\n",
      "Invalid Age  nan\n",
      "Invalid Age  nan\n",
      "Invalid Age  nan\n",
      "Invalid Age  nan\n",
      "Invalid Age  nan\n",
      "Invalid Age  nan\n",
      "Invalid Age  nan\n",
      "Invalid Age  nan\n",
      "Invalid Age  nan\n",
      "Invalid Age  nan\n",
      "Invalid Age  nan\n",
      "Invalid Age  nan\n",
      "Invalid Age  nan\n",
      "Invalid Age  nan\n",
      "Invalid Age  nan\n",
      "Invalid Age  nan\n",
      "Invalid Age  nan\n",
      "Invalid Age  nan\n",
      "Invalid Age  nan\n",
      "Invalid Age  nan\n",
      "Invalid Age  nan\n",
      "Invalid Age  nan\n",
      "Invalid Age  nan\n",
      "Invalid Age  nan\n",
      "Invalid Age  nan\n",
      "Invalid Age  nan\n",
      "Invalid Age  nan\n",
      "Invalid Age  nan\n",
      "Invalid Age  nan\n",
      "Invalid Age  nan\n",
      "Invalid Age  nan\n",
      "Invalid Age  nan\n",
      "Invalid Age  nan\n",
      "Invalid Age  nan\n",
      "Invalid Age  nan\n",
      "Invalid Age  nan\n",
      "Invalid Age  nan\n",
      "Invalid Age  nan\n",
      "Invalid Age  nan\n",
      "Invalid Age  nan\n",
      "Invalid Age  nan\n",
      "Invalid Age  nan\n",
      "Invalid Age  nan\n",
      "Invalid Age  nan\n",
      "Invalid Age  nan\n",
      "Invalid Age  nan\n",
      "Invalid Age  nan\n",
      "Invalid Age  nan\n",
      "Invalid Age  nan\n",
      "Invalid Age  nan\n",
      "Invalid Age  nan\n",
      "Invalid Age  nan\n",
      "Invalid Age  nan\n",
      "Invalid Age  nan\n",
      "Invalid Age  nan\n",
      "Invalid Age  nan\n",
      "Invalid Age  nan\n",
      "Invalid Age  nan\n",
      "Invalid Age  nan\n",
      "Invalid Age  nan\n",
      "Invalid Age  nan\n",
      "Invalid Age  nan\n",
      "Invalid Age  nan\n",
      "Invalid Age  nan\n",
      "Invalid Age  nan\n",
      "Invalid Age  nan\n",
      "Invalid Age  nan\n",
      "Invalid Age  nan\n",
      "Invalid Age  nan\n",
      "Invalid Age  nan\n",
      "Invalid Age  nan\n",
      "Invalid Age  nan\n",
      "Invalid Age  nan\n",
      "Invalid Age  nan\n",
      "Invalid Age  nan\n",
      "Invalid Age  nan\n",
      "Invalid Age  nan\n",
      "False\n"
     ]
    }
   ],
   "source": [
    "# Testing if everything looks fine\n",
    "\n",
    "result = titanic_data.apply(is_data_ok,axis=1)\n",
    "\n",
    "print result.all() # Prints True if everything is OK\n"
   ]
  },
  {
   "cell_type": "markdown",
   "metadata": {},
   "source": [
    "#### 3.2.2) Preenchendo idades faltantes\n",
    "<p>Como podemos verificar anteriormente, entre as variáveis que utilizamos em nossa análise, existem valores faltantes em Age.</p>\n",
    "<p>Para preencher esses valores, vamos agrupar os registros por Sex e Pclass e preenchê-los com a média para o grupo e classe.</p>\n",
    "<p>Ex: Quando encontrado uma idade faltante, preenche esse valor com a média de idade do grupo e classe a qual o passageiro pertence.</p>\n",
    "<p>Finalmente reexecutamos o mesmo teste realizado anteriormente e verificamos o valor True ou False.</p>"
   ]
  },
  {
   "cell_type": "code",
   "execution_count": 69,
   "metadata": {
    "collapsed": false
   },
   "outputs": [
    {
     "name": "stdout",
     "output_type": "stream",
     "text": [
      "Sex     Pclass\n",
      "female  1         34.611765\n",
      "        2         28.722973\n",
      "        3         21.750000\n",
      "male    1         41.281386\n",
      "        2         30.740707\n",
      "        3         26.507589\n",
      "Name: Age, dtype: float64\n"
     ]
    }
   ],
   "source": [
    "# Grouping missing ages by Pclass and sex\n",
    "mean_ages =  titanic_data.groupby(['Sex','Pclass'])['Age'].mean()\n",
    "\n",
    "print mean_ages\n"
   ]
  },
  {
   "cell_type": "code",
   "execution_count": 70,
   "metadata": {
    "collapsed": true
   },
   "outputs": [],
   "source": [
    "def fill_missing_ages(register):\n",
    "    \"\"\"\n",
    "    When it found a missing age, use his Pclass and Sex to fill this age with the mean of the group.\n",
    "    Return: mean of the group if age is missing; or the age found.\n",
    "    \"\"\"\n",
    "    global mean_ages\n",
    "    if math.isnan(register['Age']):\n",
    "        return mean_ages[register['Sex']][register['Pclass']]\n",
    "    return register['Age']\n",
    "\n",
    "titanic_data['Age'] = titanic_data.apply(fill_missing_ages, axis=1)"
   ]
  },
  {
   "cell_type": "code",
   "execution_count": 71,
   "metadata": {
    "collapsed": false
   },
   "outputs": [
    {
     "name": "stdout",
     "output_type": "stream",
     "text": [
      "True\n"
     ]
    }
   ],
   "source": [
    "# Exec the same test as before - should return True if everything is OK\n",
    "result = titanic_data.apply(is_data_ok,axis=1)\n",
    "print (result.all())\n"
   ]
  },
  {
   "cell_type": "markdown",
   "metadata": {},
   "source": [
    "### 3.3) Classificação dos dados\n",
    "Será criado um grupo chamado GAclass (gender/age class) que classifica o passageiro como sendo (1) adulto do sexo masculino, (2) adulto do sexo feminino e (3) criança independente do sexo.\n"
   ]
  },
  {
   "cell_type": "code",
   "execution_count": 72,
   "metadata": {
    "collapsed": false
   },
   "outputs": [
    {
     "data": {
      "text/html": [
       "<div>\n",
       "<table border=\"1\" class=\"dataframe\">\n",
       "  <thead>\n",
       "    <tr style=\"text-align: right;\">\n",
       "      <th></th>\n",
       "      <th>PassengerId</th>\n",
       "      <th>Survived</th>\n",
       "      <th>Pclass</th>\n",
       "      <th>Name</th>\n",
       "      <th>Sex</th>\n",
       "      <th>Age</th>\n",
       "      <th>SibSp</th>\n",
       "      <th>Parch</th>\n",
       "      <th>Ticket</th>\n",
       "      <th>Fare</th>\n",
       "      <th>Cabin</th>\n",
       "      <th>Embarked</th>\n",
       "      <th>GAclass</th>\n",
       "    </tr>\n",
       "  </thead>\n",
       "  <tbody>\n",
       "    <tr>\n",
       "      <th>0</th>\n",
       "      <td>1</td>\n",
       "      <td>0</td>\n",
       "      <td>3</td>\n",
       "      <td>Braund, Mr. Owen Harris</td>\n",
       "      <td>male</td>\n",
       "      <td>22.0</td>\n",
       "      <td>1</td>\n",
       "      <td>0</td>\n",
       "      <td>A/5 21171</td>\n",
       "      <td>7.2500</td>\n",
       "      <td>NaN</td>\n",
       "      <td>S</td>\n",
       "      <td>1</td>\n",
       "    </tr>\n",
       "    <tr>\n",
       "      <th>1</th>\n",
       "      <td>2</td>\n",
       "      <td>1</td>\n",
       "      <td>1</td>\n",
       "      <td>Cumings, Mrs. John Bradley (Florence Briggs Th...</td>\n",
       "      <td>female</td>\n",
       "      <td>38.0</td>\n",
       "      <td>1</td>\n",
       "      <td>0</td>\n",
       "      <td>PC 17599</td>\n",
       "      <td>71.2833</td>\n",
       "      <td>C85</td>\n",
       "      <td>C</td>\n",
       "      <td>2</td>\n",
       "    </tr>\n",
       "    <tr>\n",
       "      <th>2</th>\n",
       "      <td>3</td>\n",
       "      <td>1</td>\n",
       "      <td>3</td>\n",
       "      <td>Heikkinen, Miss. Laina</td>\n",
       "      <td>female</td>\n",
       "      <td>26.0</td>\n",
       "      <td>0</td>\n",
       "      <td>0</td>\n",
       "      <td>STON/O2. 3101282</td>\n",
       "      <td>7.9250</td>\n",
       "      <td>NaN</td>\n",
       "      <td>S</td>\n",
       "      <td>2</td>\n",
       "    </tr>\n",
       "    <tr>\n",
       "      <th>3</th>\n",
       "      <td>4</td>\n",
       "      <td>1</td>\n",
       "      <td>1</td>\n",
       "      <td>Futrelle, Mrs. Jacques Heath (Lily May Peel)</td>\n",
       "      <td>female</td>\n",
       "      <td>35.0</td>\n",
       "      <td>1</td>\n",
       "      <td>0</td>\n",
       "      <td>113803</td>\n",
       "      <td>53.1000</td>\n",
       "      <td>C123</td>\n",
       "      <td>S</td>\n",
       "      <td>2</td>\n",
       "    </tr>\n",
       "    <tr>\n",
       "      <th>4</th>\n",
       "      <td>5</td>\n",
       "      <td>0</td>\n",
       "      <td>3</td>\n",
       "      <td>Allen, Mr. William Henry</td>\n",
       "      <td>male</td>\n",
       "      <td>35.0</td>\n",
       "      <td>0</td>\n",
       "      <td>0</td>\n",
       "      <td>373450</td>\n",
       "      <td>8.0500</td>\n",
       "      <td>NaN</td>\n",
       "      <td>S</td>\n",
       "      <td>1</td>\n",
       "    </tr>\n",
       "  </tbody>\n",
       "</table>\n",
       "</div>"
      ],
      "text/plain": [
       "   PassengerId  Survived  Pclass  \\\n",
       "0            1         0       3   \n",
       "1            2         1       1   \n",
       "2            3         1       3   \n",
       "3            4         1       1   \n",
       "4            5         0       3   \n",
       "\n",
       "                                                Name     Sex   Age  SibSp  \\\n",
       "0                            Braund, Mr. Owen Harris    male  22.0      1   \n",
       "1  Cumings, Mrs. John Bradley (Florence Briggs Th...  female  38.0      1   \n",
       "2                             Heikkinen, Miss. Laina  female  26.0      0   \n",
       "3       Futrelle, Mrs. Jacques Heath (Lily May Peel)  female  35.0      1   \n",
       "4                           Allen, Mr. William Henry    male  35.0      0   \n",
       "\n",
       "   Parch            Ticket     Fare Cabin Embarked  GAclass  \n",
       "0      0         A/5 21171   7.2500   NaN        S        1  \n",
       "1      0          PC 17599  71.2833   C85        C        2  \n",
       "2      0  STON/O2. 3101282   7.9250   NaN        S        2  \n",
       "3      0            113803  53.1000  C123        S        2  \n",
       "4      0            373450   8.0500   NaN        S        1  "
      ]
     },
     "execution_count": 72,
     "metadata": {},
     "output_type": "execute_result"
    }
   ],
   "source": [
    "def classify(register):\n",
    "    \"\"\"\n",
    "    Passengers were classified according their age/gender as: woman, man or children.\n",
    "        man: sex = \"male\" and age > 15\n",
    "        woman: sex = \"female\" and age > 15\n",
    "        children: age <=15\n",
    "        \n",
    "    Parameter: a register with at less Age and Sex\n",
    "    Return 1 if man, 2 if woman, 3 if children\n",
    "    \"\"\"\n",
    "    \n",
    "    if register['Sex'] == 'male' and register['Age'] > 15:\n",
    "        return 1\n",
    "    if register['Sex'] == 'female' and register['Age'] > 15:\n",
    "        return 2\n",
    "    return 3\n",
    "    \n",
    "titanic_data['GAclass'] = titanic_data.apply(classify, axis=1)\n",
    "\n",
    "titanic_data.head()"
   ]
  },
  {
   "cell_type": "markdown",
   "metadata": {},
   "source": [
    "### 3.4) Calculando correlações\n",
    "\n",
    "Usando o método de correlação Pearson R implementado pela biblioteca Pandas, podemos verificar a correlação entre as variáveis."
   ]
  },
  {
   "cell_type": "code",
   "execution_count": 73,
   "metadata": {
    "collapsed": false
   },
   "outputs": [
    {
     "name": "stdout",
     "output_type": "stream",
     "text": [
      "Coerrelação entre age/gender(GAclass) e sobrevivência:  0.472636807651\n",
      "Correlação entre classe da cabine (Pclass) e sobrevivência:  -0.338481035961\n"
     ]
    }
   ],
   "source": [
    "correlation = titanic_data.corr()\n",
    "\n",
    "print \"Coerrelação entre age/gender(GAclass) e sobrevivência: \",correlation['Survived']['GAclass']\n",
    "print \"Correlação entre classe da cabine (Pclass) e sobrevivência: \",correlation['Survived']['Pclass']"
   ]
  },
  {
   "cell_type": "code",
   "execution_count": 74,
   "metadata": {
    "collapsed": false
   },
   "outputs": [
    {
     "name": "stdout",
     "output_type": "stream",
     "text": [
      "Pclass  GAclass\n",
      "1       1          0.352941\n",
      "        2          0.978022\n",
      "        3          0.833333\n",
      "2       1          0.080808\n",
      "        2          0.909091\n",
      "        3          1.000000\n",
      "3       1          0.119122\n",
      "        2          0.491228\n",
      "        3          0.431034\n",
      "Name: Survived, dtype: float64\n"
     ]
    },
    {
     "data": {
      "image/png": "[encoded data removed]",
      "text/plain": [
       "<matplotlib.figure.Figure at 0x137198d0>"
      ]
     },
     "metadata": {},
     "output_type": "display_data"
    }
   ],
   "source": [
    "# Gráfico de barras comparando o grupo GAclass e classe Pclass\n",
    "p = sns.factorplot(x=\"Pclass\", y=\"Survived\", hue=\"GAclass\", data=titanic_data,kind=\"bar\")\n",
    "p.fig.suptitle(\"(IV) Sobrevivencia dos Passageiros por Pclass e GAclass\")\n",
    "p.set_ylabels(\"sobrevivencia\")\n",
    "\n",
    "# Agrupando dados de sobrevivência por classe e grupo\n",
    "survival_mean = titanic_data.groupby([\"Pclass\",\"GAclass\"])[\"Survived\"].mean()\n",
    "print survival_mean\n"
   ]
  },
  {
   "cell_type": "markdown",
   "metadata": {},
   "source": [
    "### 4) Conclusão\n",
    "\n",
    "<p>Através dessa análise dos dados, podemos concluir que há uma correlação entre sobrevivência e o grupo (gênero/idade) ao qual pertence o passageiro. O valor Pearson R 0.472636807651 mostra fortemente uma correlação positiva entre o grupo e sobrevivência, onde vemos que mulheres e crianças poderiam ter uma chance maior de sobrevivênciado que homens. Na correlação entre classe econômica do passageiro e sobrevivência, o valor -0.338481035961 apresenta uma correlação negativa entre situação econômica e sobrevivência, onde os pobres podem ter tido uma menor chance de sobrevivência.</p>\n",
    "<p>Comparando os gráficos I e IV, vemos que mesmo havendo maior número de homens no navio, um número muito superior de mulheres sobreviveu. Também há disparidade entre sobrevivência entre classes das cabines, onde vemos um número maior de passageiros na terceira classe e menor número de sobreviventes comparando os gráficos III e IV.</p>\n",
    "<p>Finalmente, o gráfico IV nos mostra que a quantidade de sobreviventes dos grupos mulheres e crianças para as três classes foi expressivamente maior. Na média os passageiros de primeira classe sobreviveram mais que os da segunda, e estes mais que os da terceira, mostrando também uma correlação entre poder econômico e sobrevivência. Como destaques, vemos que: (i) os passageiros homens (grupo com menor número de sobreviventes) da primeira classe (0.35) sobreviveram mais do que a soma de de sobreviventes do mesmo grupo nas classes inferiores (0.08 + 0.12 = 0.20); e (ii) apenas na 2ª classe houve maior média de sobrevivência das crianças (1.00 contra 0.90) , enquanto nas outras as mulheres tiveram maior número (0.98 contra 0.83 na primeira classe e 0.49 contra 0.43 na terceira).</p>\n",
    "<p>É importante ressaltar que essas são apenas análises iniciais observadas a partir dos dados disponíveis. E tais correlações não implicam necessariamente uma causalidade para os fatos. Para tal é necessário a realização de mais testes.</p>"
   ]
  },
  {
   "cell_type": "markdown",
   "metadata": {},
   "source": [
    "### 5) Leituras\n",
    "* MatplotLib [http://matplotlib.org/users/pyplot_tutorial.html]\n",
    "* Data Visualization in Python: Advanced Functionality in Seaborn [http://blog.insightdatalabs.com/advanced-functionality-in-seaborn/]\n",
    "* Pandas.Dataframe.corr [http://pandas.pydata.org/pandas-docs/stable/generated/pandas.DataFrame.corr.html]\n",
    "* Seaboorn Examples [http://seaborn.pydata.org/examples/index.html]"
   ]
  },
  {
   "cell_type": "code",
   "execution_count": null,
   "metadata": {
    "collapsed": true
   },
   "outputs": [],
   "source": []
  }
 ],
 "metadata": {
  "anaconda-cloud": {},
  "kernelspec": {
   "display_name": "Python [conda root]",
   "language": "python",
   "name": "conda-root-py"
  },
  "language_info": {
   "codemirror_mode": {
    "name": "ipython",
    "version": 2
   },
   "file_extension": ".py",
   "mimetype": "text/x-python",
   "name": "python",
   "nbconvert_exporter": "python",
   "pygments_lexer": "ipython2",
   "version": "2.7.12"
  }
 },
 "nbformat": 4,
 "nbformat_minor": 1
}
